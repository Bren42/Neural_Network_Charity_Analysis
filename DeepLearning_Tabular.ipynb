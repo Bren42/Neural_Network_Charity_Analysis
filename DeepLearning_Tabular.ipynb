{
 "cells": [
  {
   "cell_type": "code",
   "execution_count": 2,
   "metadata": {
    "collapsed": true,
    "pycharm": {
     "name": "#%%\n"
    }
   },
   "outputs": [],
   "source": [
    "# import dependencies\n",
    "from sklearn.preprocessing import StandardScaler, OneHotEncoder\n",
    "from sklearn.model_selection import train_test_split\n",
    "import pandas as pd\n",
    "from pandas import Series\n",
    "import tensorflow as tf"
   ]
  },
  {
   "cell_type": "code",
   "execution_count": 3,
   "outputs": [
    {
     "data": {
      "text/plain": "   Age Attrition     BusinessTravel  DailyRate              Department  \\\n0   41       Yes      Travel_Rarely       1102                   Sales   \n1   49        No  Travel_Frequently        279  Research & Development   \n2   37       Yes      Travel_Rarely       1373  Research & Development   \n3   33        No  Travel_Frequently       1392  Research & Development   \n4   27        No      Travel_Rarely        591  Research & Development   \n\n   DistanceFromHome  Education EducationField  EmployeeCount  EmployeeNumber  \\\n0                 1          2  Life Sciences              1               1   \n1                 8          1  Life Sciences              1               2   \n2                 2          2          Other              1               4   \n3                 3          4  Life Sciences              1               5   \n4                 2          1        Medical              1               7   \n\n   ...  RelationshipSatisfaction StandardHours  StockOptionLevel  \\\n0  ...                         1            80                 0   \n1  ...                         4            80                 1   \n2  ...                         2            80                 0   \n3  ...                         3            80                 0   \n4  ...                         4            80                 1   \n\n   TotalWorkingYears  TrainingTimesLastYear WorkLifeBalance  YearsAtCompany  \\\n0                  8                      0               1               6   \n1                 10                      3               3              10   \n2                  7                      3               3               0   \n3                  8                      3               3               8   \n4                  6                      3               3               2   \n\n  YearsInCurrentRole  YearsSinceLastPromotion  YearsWithCurrManager  \n0                  4                        0                     5  \n1                  7                        1                     7  \n2                  0                        0                     0  \n3                  7                        3                     0  \n4                  2                        2                     2  \n\n[5 rows x 35 columns]",
      "text/html": "<div>\n<style scoped>\n    .dataframe tbody tr th:only-of-type {\n        vertical-align: middle;\n    }\n\n    .dataframe tbody tr th {\n        vertical-align: top;\n    }\n\n    .dataframe thead th {\n        text-align: right;\n    }\n</style>\n<table border=\"1\" class=\"dataframe\">\n  <thead>\n    <tr style=\"text-align: right;\">\n      <th></th>\n      <th>Age</th>\n      <th>Attrition</th>\n      <th>BusinessTravel</th>\n      <th>DailyRate</th>\n      <th>Department</th>\n      <th>DistanceFromHome</th>\n      <th>Education</th>\n      <th>EducationField</th>\n      <th>EmployeeCount</th>\n      <th>EmployeeNumber</th>\n      <th>...</th>\n      <th>RelationshipSatisfaction</th>\n      <th>StandardHours</th>\n      <th>StockOptionLevel</th>\n      <th>TotalWorkingYears</th>\n      <th>TrainingTimesLastYear</th>\n      <th>WorkLifeBalance</th>\n      <th>YearsAtCompany</th>\n      <th>YearsInCurrentRole</th>\n      <th>YearsSinceLastPromotion</th>\n      <th>YearsWithCurrManager</th>\n    </tr>\n  </thead>\n  <tbody>\n    <tr>\n      <th>0</th>\n      <td>41</td>\n      <td>Yes</td>\n      <td>Travel_Rarely</td>\n      <td>1102</td>\n      <td>Sales</td>\n      <td>1</td>\n      <td>2</td>\n      <td>Life Sciences</td>\n      <td>1</td>\n      <td>1</td>\n      <td>...</td>\n      <td>1</td>\n      <td>80</td>\n      <td>0</td>\n      <td>8</td>\n      <td>0</td>\n      <td>1</td>\n      <td>6</td>\n      <td>4</td>\n      <td>0</td>\n      <td>5</td>\n    </tr>\n    <tr>\n      <th>1</th>\n      <td>49</td>\n      <td>No</td>\n      <td>Travel_Frequently</td>\n      <td>279</td>\n      <td>Research &amp; Development</td>\n      <td>8</td>\n      <td>1</td>\n      <td>Life Sciences</td>\n      <td>1</td>\n      <td>2</td>\n      <td>...</td>\n      <td>4</td>\n      <td>80</td>\n      <td>1</td>\n      <td>10</td>\n      <td>3</td>\n      <td>3</td>\n      <td>10</td>\n      <td>7</td>\n      <td>1</td>\n      <td>7</td>\n    </tr>\n    <tr>\n      <th>2</th>\n      <td>37</td>\n      <td>Yes</td>\n      <td>Travel_Rarely</td>\n      <td>1373</td>\n      <td>Research &amp; Development</td>\n      <td>2</td>\n      <td>2</td>\n      <td>Other</td>\n      <td>1</td>\n      <td>4</td>\n      <td>...</td>\n      <td>2</td>\n      <td>80</td>\n      <td>0</td>\n      <td>7</td>\n      <td>3</td>\n      <td>3</td>\n      <td>0</td>\n      <td>0</td>\n      <td>0</td>\n      <td>0</td>\n    </tr>\n    <tr>\n      <th>3</th>\n      <td>33</td>\n      <td>No</td>\n      <td>Travel_Frequently</td>\n      <td>1392</td>\n      <td>Research &amp; Development</td>\n      <td>3</td>\n      <td>4</td>\n      <td>Life Sciences</td>\n      <td>1</td>\n      <td>5</td>\n      <td>...</td>\n      <td>3</td>\n      <td>80</td>\n      <td>0</td>\n      <td>8</td>\n      <td>3</td>\n      <td>3</td>\n      <td>8</td>\n      <td>7</td>\n      <td>3</td>\n      <td>0</td>\n    </tr>\n    <tr>\n      <th>4</th>\n      <td>27</td>\n      <td>No</td>\n      <td>Travel_Rarely</td>\n      <td>591</td>\n      <td>Research &amp; Development</td>\n      <td>2</td>\n      <td>1</td>\n      <td>Medical</td>\n      <td>1</td>\n      <td>7</td>\n      <td>...</td>\n      <td>4</td>\n      <td>80</td>\n      <td>1</td>\n      <td>6</td>\n      <td>3</td>\n      <td>3</td>\n      <td>2</td>\n      <td>2</td>\n      <td>2</td>\n      <td>2</td>\n    </tr>\n  </tbody>\n</table>\n<p>5 rows × 35 columns</p>\n</div>"
     },
     "execution_count": 3,
     "metadata": {},
     "output_type": "execute_result"
    }
   ],
   "source": [
    "# import dataset and create a dataframe\n",
    "\n",
    "attrition_df = pd.read_csv('HR-Employee-Attrition.csv')\n",
    "attrition_df.head()"
   ],
   "metadata": {
    "collapsed": false,
    "pycharm": {
     "name": "#%%\n"
    }
   }
  },
  {
   "cell_type": "code",
   "execution_count": 4,
   "outputs": [
    {
     "data": {
      "text/plain": "Attrition         2\nBusinessTravel    3\nDepartment        3\nEducationField    6\nGender            2\nJobRole           9\nMaritalStatus     3\nOver18            1\nOverTime          2\ndtype: int64"
     },
     "execution_count": 4,
     "metadata": {},
     "output_type": "execute_result"
    }
   ],
   "source": [
    "# Generate our categorical variable list\n",
    "attrition_cat = attrition_df.dtypes[attrition_df.dtypes == \"object\"].index.tolist()\n",
    "\n",
    "# Check the number of unique values in each column\n",
    "attrition_df[attrition_cat].nunique()"
   ],
   "metadata": {
    "collapsed": false,
    "pycharm": {
     "name": "#%%\n"
    }
   }
  },
  {
   "cell_type": "code",
   "execution_count": 5,
   "outputs": [
    {
     "data": {
      "text/plain": "   Attrition_No  Attrition_Yes  BusinessTravel_Non-Travel  \\\n0           0.0            1.0                        0.0   \n1           1.0            0.0                        0.0   \n2           0.0            1.0                        0.0   \n3           1.0            0.0                        0.0   \n4           1.0            0.0                        0.0   \n\n   BusinessTravel_Travel_Frequently  BusinessTravel_Travel_Rarely  \\\n0                               0.0                           1.0   \n1                               1.0                           0.0   \n2                               0.0                           1.0   \n3                               1.0                           0.0   \n4                               0.0                           1.0   \n\n   Department_Human Resources  Department_Research & Development  \\\n0                         0.0                                0.0   \n1                         0.0                                1.0   \n2                         0.0                                1.0   \n3                         0.0                                1.0   \n4                         0.0                                1.0   \n\n   Department_Sales  EducationField_Human Resources  \\\n0               1.0                             0.0   \n1               0.0                             0.0   \n2               0.0                             0.0   \n3               0.0                             0.0   \n4               0.0                             0.0   \n\n   EducationField_Life Sciences  ...  JobRole_Research Director  \\\n0                           1.0  ...                        0.0   \n1                           1.0  ...                        0.0   \n2                           0.0  ...                        0.0   \n3                           1.0  ...                        0.0   \n4                           0.0  ...                        0.0   \n\n   JobRole_Research Scientist  JobRole_Sales Executive  \\\n0                         0.0                      1.0   \n1                         1.0                      0.0   \n2                         0.0                      0.0   \n3                         1.0                      0.0   \n4                         0.0                      0.0   \n\n   JobRole_Sales Representative  MaritalStatus_Divorced  \\\n0                           0.0                     0.0   \n1                           0.0                     0.0   \n2                           0.0                     0.0   \n3                           0.0                     0.0   \n4                           0.0                     0.0   \n\n   MaritalStatus_Married  MaritalStatus_Single  Over18_Y  OverTime_No  \\\n0                    0.0                   1.0       1.0          0.0   \n1                    1.0                   0.0       1.0          1.0   \n2                    0.0                   1.0       1.0          0.0   \n3                    1.0                   0.0       1.0          0.0   \n4                    1.0                   0.0       1.0          1.0   \n\n   OverTime_Yes  \n0           1.0  \n1           0.0  \n2           1.0  \n3           1.0  \n4           0.0  \n\n[5 rows x 31 columns]",
      "text/html": "<div>\n<style scoped>\n    .dataframe tbody tr th:only-of-type {\n        vertical-align: middle;\n    }\n\n    .dataframe tbody tr th {\n        vertical-align: top;\n    }\n\n    .dataframe thead th {\n        text-align: right;\n    }\n</style>\n<table border=\"1\" class=\"dataframe\">\n  <thead>\n    <tr style=\"text-align: right;\">\n      <th></th>\n      <th>Attrition_No</th>\n      <th>Attrition_Yes</th>\n      <th>BusinessTravel_Non-Travel</th>\n      <th>BusinessTravel_Travel_Frequently</th>\n      <th>BusinessTravel_Travel_Rarely</th>\n      <th>Department_Human Resources</th>\n      <th>Department_Research &amp; Development</th>\n      <th>Department_Sales</th>\n      <th>EducationField_Human Resources</th>\n      <th>EducationField_Life Sciences</th>\n      <th>...</th>\n      <th>JobRole_Research Director</th>\n      <th>JobRole_Research Scientist</th>\n      <th>JobRole_Sales Executive</th>\n      <th>JobRole_Sales Representative</th>\n      <th>MaritalStatus_Divorced</th>\n      <th>MaritalStatus_Married</th>\n      <th>MaritalStatus_Single</th>\n      <th>Over18_Y</th>\n      <th>OverTime_No</th>\n      <th>OverTime_Yes</th>\n    </tr>\n  </thead>\n  <tbody>\n    <tr>\n      <th>0</th>\n      <td>0.0</td>\n      <td>1.0</td>\n      <td>0.0</td>\n      <td>0.0</td>\n      <td>1.0</td>\n      <td>0.0</td>\n      <td>0.0</td>\n      <td>1.0</td>\n      <td>0.0</td>\n      <td>1.0</td>\n      <td>...</td>\n      <td>0.0</td>\n      <td>0.0</td>\n      <td>1.0</td>\n      <td>0.0</td>\n      <td>0.0</td>\n      <td>0.0</td>\n      <td>1.0</td>\n      <td>1.0</td>\n      <td>0.0</td>\n      <td>1.0</td>\n    </tr>\n    <tr>\n      <th>1</th>\n      <td>1.0</td>\n      <td>0.0</td>\n      <td>0.0</td>\n      <td>1.0</td>\n      <td>0.0</td>\n      <td>0.0</td>\n      <td>1.0</td>\n      <td>0.0</td>\n      <td>0.0</td>\n      <td>1.0</td>\n      <td>...</td>\n      <td>0.0</td>\n      <td>1.0</td>\n      <td>0.0</td>\n      <td>0.0</td>\n      <td>0.0</td>\n      <td>1.0</td>\n      <td>0.0</td>\n      <td>1.0</td>\n      <td>1.0</td>\n      <td>0.0</td>\n    </tr>\n    <tr>\n      <th>2</th>\n      <td>0.0</td>\n      <td>1.0</td>\n      <td>0.0</td>\n      <td>0.0</td>\n      <td>1.0</td>\n      <td>0.0</td>\n      <td>1.0</td>\n      <td>0.0</td>\n      <td>0.0</td>\n      <td>0.0</td>\n      <td>...</td>\n      <td>0.0</td>\n      <td>0.0</td>\n      <td>0.0</td>\n      <td>0.0</td>\n      <td>0.0</td>\n      <td>0.0</td>\n      <td>1.0</td>\n      <td>1.0</td>\n      <td>0.0</td>\n      <td>1.0</td>\n    </tr>\n    <tr>\n      <th>3</th>\n      <td>1.0</td>\n      <td>0.0</td>\n      <td>0.0</td>\n      <td>1.0</td>\n      <td>0.0</td>\n      <td>0.0</td>\n      <td>1.0</td>\n      <td>0.0</td>\n      <td>0.0</td>\n      <td>1.0</td>\n      <td>...</td>\n      <td>0.0</td>\n      <td>1.0</td>\n      <td>0.0</td>\n      <td>0.0</td>\n      <td>0.0</td>\n      <td>1.0</td>\n      <td>0.0</td>\n      <td>1.0</td>\n      <td>0.0</td>\n      <td>1.0</td>\n    </tr>\n    <tr>\n      <th>4</th>\n      <td>1.0</td>\n      <td>0.0</td>\n      <td>0.0</td>\n      <td>0.0</td>\n      <td>1.0</td>\n      <td>0.0</td>\n      <td>1.0</td>\n      <td>0.0</td>\n      <td>0.0</td>\n      <td>0.0</td>\n      <td>...</td>\n      <td>0.0</td>\n      <td>0.0</td>\n      <td>0.0</td>\n      <td>0.0</td>\n      <td>0.0</td>\n      <td>1.0</td>\n      <td>0.0</td>\n      <td>1.0</td>\n      <td>1.0</td>\n      <td>0.0</td>\n    </tr>\n  </tbody>\n</table>\n<p>5 rows × 31 columns</p>\n</div>"
     },
     "execution_count": 5,
     "metadata": {},
     "output_type": "execute_result"
    }
   ],
   "source": [
    "# Create a OneHotEncoder instance\n",
    "enc = OneHotEncoder(sparse=False)\n",
    "\n",
    "# Fit and transform the OneHotEncoder using the categorical variable list\n",
    "encode_df = pd.DataFrame(enc.fit_transform(attrition_df[attrition_cat]))\n",
    "\n",
    "# Add the encoded variable names to the DataFrame\n",
    "encode_df.columns = enc.get_feature_names_out(attrition_cat)\n",
    "encode_df.head()"
   ],
   "metadata": {
    "collapsed": false,
    "pycharm": {
     "name": "#%%\n"
    }
   }
  },
  {
   "cell_type": "code",
   "execution_count": 6,
   "outputs": [
    {
     "name": "stderr",
     "output_type": "stream",
     "text": [
      "C:\\Users\\nytec\\anaconda3\\envs\\mlenv\\lib\\site-packages\\ipykernel_launcher.py:3: FutureWarning: In a future version of pandas all arguments of DataFrame.drop except for the argument 'labels' will be keyword-only\n",
      "  This is separate from the ipykernel package so we can avoid doing imports until\n"
     ]
    },
    {
     "data": {
      "text/plain": "      Age  DailyRate  DistanceFromHome  Education  EmployeeCount  \\\n0      41       1102                 1          2              1   \n1      49        279                 8          1              1   \n2      37       1373                 2          2              1   \n3      33       1392                 3          4              1   \n4      27        591                 2          1              1   \n...   ...        ...               ...        ...            ...   \n1465   36        884                23          2              1   \n1466   39        613                 6          1              1   \n1467   27        155                 4          3              1   \n1468   49       1023                 2          3              1   \n1469   34        628                 8          3              1   \n\n      EmployeeNumber  EnvironmentSatisfaction  HourlyRate  JobInvolvement  \\\n0                  1                        2          94               3   \n1                  2                        3          61               2   \n2                  4                        4          92               2   \n3                  5                        4          56               3   \n4                  7                        1          40               3   \n...              ...                      ...         ...             ...   \n1465            2061                        3          41               4   \n1466            2062                        4          42               2   \n1467            2064                        2          87               4   \n1468            2065                        4          63               2   \n1469            2068                        2          82               4   \n\n      JobLevel  ...  JobRole_Research Director  JobRole_Research Scientist  \\\n0            2  ...                        0.0                         0.0   \n1            2  ...                        0.0                         1.0   \n2            1  ...                        0.0                         0.0   \n3            1  ...                        0.0                         1.0   \n4            1  ...                        0.0                         0.0   \n...        ...  ...                        ...                         ...   \n1465         2  ...                        0.0                         0.0   \n1466         3  ...                        0.0                         0.0   \n1467         2  ...                        0.0                         0.0   \n1468         2  ...                        0.0                         0.0   \n1469         2  ...                        0.0                         0.0   \n\n      JobRole_Sales Executive  JobRole_Sales Representative  \\\n0                         1.0                           0.0   \n1                         0.0                           0.0   \n2                         0.0                           0.0   \n3                         0.0                           0.0   \n4                         0.0                           0.0   \n...                       ...                           ...   \n1465                      0.0                           0.0   \n1466                      0.0                           0.0   \n1467                      0.0                           0.0   \n1468                      1.0                           0.0   \n1469                      0.0                           0.0   \n\n      MaritalStatus_Divorced  MaritalStatus_Married  MaritalStatus_Single  \\\n0                        0.0                    0.0                   1.0   \n1                        0.0                    1.0                   0.0   \n2                        0.0                    0.0                   1.0   \n3                        0.0                    1.0                   0.0   \n4                        0.0                    1.0                   0.0   \n...                      ...                    ...                   ...   \n1465                     0.0                    1.0                   0.0   \n1466                     0.0                    1.0                   0.0   \n1467                     0.0                    1.0                   0.0   \n1468                     0.0                    1.0                   0.0   \n1469                     0.0                    1.0                   0.0   \n\n      Over18_Y  OverTime_No  OverTime_Yes  \n0          1.0          0.0           1.0  \n1          1.0          1.0           0.0  \n2          1.0          0.0           1.0  \n3          1.0          0.0           1.0  \n4          1.0          1.0           0.0  \n...        ...          ...           ...  \n1465       1.0          1.0           0.0  \n1466       1.0          1.0           0.0  \n1467       1.0          0.0           1.0  \n1468       1.0          1.0           0.0  \n1469       1.0          1.0           0.0  \n\n[1470 rows x 57 columns]",
      "text/html": "<div>\n<style scoped>\n    .dataframe tbody tr th:only-of-type {\n        vertical-align: middle;\n    }\n\n    .dataframe tbody tr th {\n        vertical-align: top;\n    }\n\n    .dataframe thead th {\n        text-align: right;\n    }\n</style>\n<table border=\"1\" class=\"dataframe\">\n  <thead>\n    <tr style=\"text-align: right;\">\n      <th></th>\n      <th>Age</th>\n      <th>DailyRate</th>\n      <th>DistanceFromHome</th>\n      <th>Education</th>\n      <th>EmployeeCount</th>\n      <th>EmployeeNumber</th>\n      <th>EnvironmentSatisfaction</th>\n      <th>HourlyRate</th>\n      <th>JobInvolvement</th>\n      <th>JobLevel</th>\n      <th>...</th>\n      <th>JobRole_Research Director</th>\n      <th>JobRole_Research Scientist</th>\n      <th>JobRole_Sales Executive</th>\n      <th>JobRole_Sales Representative</th>\n      <th>MaritalStatus_Divorced</th>\n      <th>MaritalStatus_Married</th>\n      <th>MaritalStatus_Single</th>\n      <th>Over18_Y</th>\n      <th>OverTime_No</th>\n      <th>OverTime_Yes</th>\n    </tr>\n  </thead>\n  <tbody>\n    <tr>\n      <th>0</th>\n      <td>41</td>\n      <td>1102</td>\n      <td>1</td>\n      <td>2</td>\n      <td>1</td>\n      <td>1</td>\n      <td>2</td>\n      <td>94</td>\n      <td>3</td>\n      <td>2</td>\n      <td>...</td>\n      <td>0.0</td>\n      <td>0.0</td>\n      <td>1.0</td>\n      <td>0.0</td>\n      <td>0.0</td>\n      <td>0.0</td>\n      <td>1.0</td>\n      <td>1.0</td>\n      <td>0.0</td>\n      <td>1.0</td>\n    </tr>\n    <tr>\n      <th>1</th>\n      <td>49</td>\n      <td>279</td>\n      <td>8</td>\n      <td>1</td>\n      <td>1</td>\n      <td>2</td>\n      <td>3</td>\n      <td>61</td>\n      <td>2</td>\n      <td>2</td>\n      <td>...</td>\n      <td>0.0</td>\n      <td>1.0</td>\n      <td>0.0</td>\n      <td>0.0</td>\n      <td>0.0</td>\n      <td>1.0</td>\n      <td>0.0</td>\n      <td>1.0</td>\n      <td>1.0</td>\n      <td>0.0</td>\n    </tr>\n    <tr>\n      <th>2</th>\n      <td>37</td>\n      <td>1373</td>\n      <td>2</td>\n      <td>2</td>\n      <td>1</td>\n      <td>4</td>\n      <td>4</td>\n      <td>92</td>\n      <td>2</td>\n      <td>1</td>\n      <td>...</td>\n      <td>0.0</td>\n      <td>0.0</td>\n      <td>0.0</td>\n      <td>0.0</td>\n      <td>0.0</td>\n      <td>0.0</td>\n      <td>1.0</td>\n      <td>1.0</td>\n      <td>0.0</td>\n      <td>1.0</td>\n    </tr>\n    <tr>\n      <th>3</th>\n      <td>33</td>\n      <td>1392</td>\n      <td>3</td>\n      <td>4</td>\n      <td>1</td>\n      <td>5</td>\n      <td>4</td>\n      <td>56</td>\n      <td>3</td>\n      <td>1</td>\n      <td>...</td>\n      <td>0.0</td>\n      <td>1.0</td>\n      <td>0.0</td>\n      <td>0.0</td>\n      <td>0.0</td>\n      <td>1.0</td>\n      <td>0.0</td>\n      <td>1.0</td>\n      <td>0.0</td>\n      <td>1.0</td>\n    </tr>\n    <tr>\n      <th>4</th>\n      <td>27</td>\n      <td>591</td>\n      <td>2</td>\n      <td>1</td>\n      <td>1</td>\n      <td>7</td>\n      <td>1</td>\n      <td>40</td>\n      <td>3</td>\n      <td>1</td>\n      <td>...</td>\n      <td>0.0</td>\n      <td>0.0</td>\n      <td>0.0</td>\n      <td>0.0</td>\n      <td>0.0</td>\n      <td>1.0</td>\n      <td>0.0</td>\n      <td>1.0</td>\n      <td>1.0</td>\n      <td>0.0</td>\n    </tr>\n    <tr>\n      <th>...</th>\n      <td>...</td>\n      <td>...</td>\n      <td>...</td>\n      <td>...</td>\n      <td>...</td>\n      <td>...</td>\n      <td>...</td>\n      <td>...</td>\n      <td>...</td>\n      <td>...</td>\n      <td>...</td>\n      <td>...</td>\n      <td>...</td>\n      <td>...</td>\n      <td>...</td>\n      <td>...</td>\n      <td>...</td>\n      <td>...</td>\n      <td>...</td>\n      <td>...</td>\n      <td>...</td>\n    </tr>\n    <tr>\n      <th>1465</th>\n      <td>36</td>\n      <td>884</td>\n      <td>23</td>\n      <td>2</td>\n      <td>1</td>\n      <td>2061</td>\n      <td>3</td>\n      <td>41</td>\n      <td>4</td>\n      <td>2</td>\n      <td>...</td>\n      <td>0.0</td>\n      <td>0.0</td>\n      <td>0.0</td>\n      <td>0.0</td>\n      <td>0.0</td>\n      <td>1.0</td>\n      <td>0.0</td>\n      <td>1.0</td>\n      <td>1.0</td>\n      <td>0.0</td>\n    </tr>\n    <tr>\n      <th>1466</th>\n      <td>39</td>\n      <td>613</td>\n      <td>6</td>\n      <td>1</td>\n      <td>1</td>\n      <td>2062</td>\n      <td>4</td>\n      <td>42</td>\n      <td>2</td>\n      <td>3</td>\n      <td>...</td>\n      <td>0.0</td>\n      <td>0.0</td>\n      <td>0.0</td>\n      <td>0.0</td>\n      <td>0.0</td>\n      <td>1.0</td>\n      <td>0.0</td>\n      <td>1.0</td>\n      <td>1.0</td>\n      <td>0.0</td>\n    </tr>\n    <tr>\n      <th>1467</th>\n      <td>27</td>\n      <td>155</td>\n      <td>4</td>\n      <td>3</td>\n      <td>1</td>\n      <td>2064</td>\n      <td>2</td>\n      <td>87</td>\n      <td>4</td>\n      <td>2</td>\n      <td>...</td>\n      <td>0.0</td>\n      <td>0.0</td>\n      <td>0.0</td>\n      <td>0.0</td>\n      <td>0.0</td>\n      <td>1.0</td>\n      <td>0.0</td>\n      <td>1.0</td>\n      <td>0.0</td>\n      <td>1.0</td>\n    </tr>\n    <tr>\n      <th>1468</th>\n      <td>49</td>\n      <td>1023</td>\n      <td>2</td>\n      <td>3</td>\n      <td>1</td>\n      <td>2065</td>\n      <td>4</td>\n      <td>63</td>\n      <td>2</td>\n      <td>2</td>\n      <td>...</td>\n      <td>0.0</td>\n      <td>0.0</td>\n      <td>1.0</td>\n      <td>0.0</td>\n      <td>0.0</td>\n      <td>1.0</td>\n      <td>0.0</td>\n      <td>1.0</td>\n      <td>1.0</td>\n      <td>0.0</td>\n    </tr>\n    <tr>\n      <th>1469</th>\n      <td>34</td>\n      <td>628</td>\n      <td>8</td>\n      <td>3</td>\n      <td>1</td>\n      <td>2068</td>\n      <td>2</td>\n      <td>82</td>\n      <td>4</td>\n      <td>2</td>\n      <td>...</td>\n      <td>0.0</td>\n      <td>0.0</td>\n      <td>0.0</td>\n      <td>0.0</td>\n      <td>0.0</td>\n      <td>1.0</td>\n      <td>0.0</td>\n      <td>1.0</td>\n      <td>1.0</td>\n      <td>0.0</td>\n    </tr>\n  </tbody>\n</table>\n<p>1470 rows × 57 columns</p>\n</div>"
     },
     "execution_count": 6,
     "metadata": {},
     "output_type": "execute_result"
    }
   ],
   "source": [
    "# Merge one-hot encoded features and drop the originals\n",
    "attrition_df =attrition_df.merge(encode_df, left_index=True, right_index=True)\n",
    "attrition_df = attrition_df.drop(attrition_cat,1)\n",
    "attrition_df"
   ],
   "metadata": {
    "collapsed": false,
    "pycharm": {
     "name": "#%%\n"
    }
   }
  },
  {
   "cell_type": "code",
   "execution_count": 7,
   "outputs": [],
   "source": [
    "# Split our preprocessed data into our features and target arrays\n",
    "y = attrition_df[\"Attrition_Yes\"].values\n",
    "X = attrition_df.drop([\"Attrition_Yes\",\"Attrition_No\"],axis=1).values\n",
    "\n",
    "# Split the preprocessed data into a training and testing dataset\n",
    "X_train, X_test, y_train, y_test = train_test_split(X, y, random_state=78)"
   ],
   "metadata": {
    "collapsed": false,
    "pycharm": {
     "name": "#%%\n"
    }
   }
  },
  {
   "cell_type": "code",
   "execution_count": 8,
   "outputs": [],
   "source": [
    "# Create a StandardScaler instance\n",
    "scaler = StandardScaler()\n",
    "\n",
    "# Fit the StandardScaler\n",
    "X_scaler = scaler.fit(X_train)\n",
    "\n",
    "# Scale the data\n",
    "X_train_scaled = X_scaler.transform(X_train)\n",
    "X_test_scaled = X_scaler.transform(X_test)"
   ],
   "metadata": {
    "collapsed": false,
    "pycharm": {
     "name": "#%%\n"
    }
   }
  },
  {
   "cell_type": "code",
   "execution_count": 9,
   "outputs": [
    {
     "name": "stdout",
     "output_type": "stream",
     "text": [
      "Model: \"sequential\"\n",
      "_________________________________________________________________\n",
      " Layer (type)                Output Shape              Param #   \n",
      "=================================================================\n",
      " dense (Dense)               (None, 8)                 448       \n",
      "                                                                 \n",
      " dense_1 (Dense)             (None, 5)                 45        \n",
      "                                                                 \n",
      " dense_2 (Dense)             (None, 1)                 6         \n",
      "                                                                 \n",
      "=================================================================\n",
      "Total params: 499\n",
      "Trainable params: 499\n",
      "Non-trainable params: 0\n",
      "_________________________________________________________________\n"
     ]
    }
   ],
   "source": [
    "# Define the model - deep neural net\n",
    "number_input_features = len(X_train[0])\n",
    "hidden_nodes_layer1 = 8\n",
    "hidden_nodes_layer2 = 5\n",
    "\n",
    "nn = tf.keras.models.Sequential()\n",
    "\n",
    "# First hidden layer\n",
    "nn.add(\n",
    "    tf.keras.layers.Dense(units=hidden_nodes_layer1, input_dim=number_input_features, activation=\"relu\")\n",
    ")\n",
    "\n",
    "# Second hidden layer\n",
    "nn.add(tf.keras.layers.Dense(units=hidden_nodes_layer2, activation=\"relu\"))\n",
    "\n",
    "# Output layer\n",
    "nn.add(tf.keras.layers.Dense(units=1, activation=\"sigmoid\"))\n",
    "\n",
    "# Check the structure of the model\n",
    "nn.summary()"
   ],
   "metadata": {
    "collapsed": false,
    "pycharm": {
     "name": "#%%\n"
    }
   }
  },
  {
   "cell_type": "code",
   "execution_count": null,
   "outputs": [],
   "source": [],
   "metadata": {
    "collapsed": false,
    "pycharm": {
     "name": "#%%\n"
    }
   }
  }
 ],
 "metadata": {
  "kernelspec": {
   "display_name": "Python 3",
   "language": "python",
   "name": "python3"
  },
  "language_info": {
   "codemirror_mode": {
    "name": "ipython",
    "version": 2
   },
   "file_extension": ".py",
   "mimetype": "text/x-python",
   "name": "python",
   "nbconvert_exporter": "python",
   "pygments_lexer": "ipython2",
   "version": "2.7.6"
  }
 },
 "nbformat": 4,
 "nbformat_minor": 0
}