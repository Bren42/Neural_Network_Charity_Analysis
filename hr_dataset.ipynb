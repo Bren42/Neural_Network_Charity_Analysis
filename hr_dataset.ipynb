{
 "cells": [
  {
   "cell_type": "code",
   "execution_count": 1,
   "metadata": {
    "collapsed": true,
    "pycharm": {
     "name": "#%%\n"
    }
   },
   "outputs": [],
   "source": [
    "# import our dependencies\n",
    "import pandas as pd\n",
    "from sklearn.preprocessing import StandardScaler"
   ]
  },
  {
   "cell_type": "code",
   "execution_count": 2,
   "outputs": [
    {
     "data": {
      "text/plain": "    Satisfaction_Level  Num_Projects  Time_Spent  Num_Promotions\n0                 0.30             1         253               2\n1                 0.25             1         200               0\n2                 0.90             4        2880               5\n3                 0.65             3        1450               3\n4                 0.50             2         785               2\n5                 0.40             2         688               2\n6                 0.85             4        2570               4\n7                 0.90             5        2956               4\n8                 0.15             0          68               1\n9                 1.00             5        3424               6\n10                0.70             3        2057               3\n11                0.23             1         362               1\n12                0.48             1         572               2\n13                0.41             2         526               2\n14                0.55             3         682               2\n15                0.70             4        1575               4\n16                0.65             3        1480               3\n17                0.80             4        2390               4\n18                0.87             4        2855               5\n19                0.38             2         523               1\n20                0.60             2        1025               2\n21                0.90             5        3259               5\n22                1.00             6        4816               7\n23                0.75             3        1269               3\n24                0.80             3        1540               3\n25                0.46             1         605               2\n26                0.50             2         832               2\n27                0.35             1         428               1\n28                0.70             2        1015               3",
      "text/html": "<div>\n<style scoped>\n    .dataframe tbody tr th:only-of-type {\n        vertical-align: middle;\n    }\n\n    .dataframe tbody tr th {\n        vertical-align: top;\n    }\n\n    .dataframe thead th {\n        text-align: right;\n    }\n</style>\n<table border=\"1\" class=\"dataframe\">\n  <thead>\n    <tr style=\"text-align: right;\">\n      <th></th>\n      <th>Satisfaction_Level</th>\n      <th>Num_Projects</th>\n      <th>Time_Spent</th>\n      <th>Num_Promotions</th>\n    </tr>\n  </thead>\n  <tbody>\n    <tr>\n      <th>0</th>\n      <td>0.30</td>\n      <td>1</td>\n      <td>253</td>\n      <td>2</td>\n    </tr>\n    <tr>\n      <th>1</th>\n      <td>0.25</td>\n      <td>1</td>\n      <td>200</td>\n      <td>0</td>\n    </tr>\n    <tr>\n      <th>2</th>\n      <td>0.90</td>\n      <td>4</td>\n      <td>2880</td>\n      <td>5</td>\n    </tr>\n    <tr>\n      <th>3</th>\n      <td>0.65</td>\n      <td>3</td>\n      <td>1450</td>\n      <td>3</td>\n    </tr>\n    <tr>\n      <th>4</th>\n      <td>0.50</td>\n      <td>2</td>\n      <td>785</td>\n      <td>2</td>\n    </tr>\n    <tr>\n      <th>5</th>\n      <td>0.40</td>\n      <td>2</td>\n      <td>688</td>\n      <td>2</td>\n    </tr>\n    <tr>\n      <th>6</th>\n      <td>0.85</td>\n      <td>4</td>\n      <td>2570</td>\n      <td>4</td>\n    </tr>\n    <tr>\n      <th>7</th>\n      <td>0.90</td>\n      <td>5</td>\n      <td>2956</td>\n      <td>4</td>\n    </tr>\n    <tr>\n      <th>8</th>\n      <td>0.15</td>\n      <td>0</td>\n      <td>68</td>\n      <td>1</td>\n    </tr>\n    <tr>\n      <th>9</th>\n      <td>1.00</td>\n      <td>5</td>\n      <td>3424</td>\n      <td>6</td>\n    </tr>\n    <tr>\n      <th>10</th>\n      <td>0.70</td>\n      <td>3</td>\n      <td>2057</td>\n      <td>3</td>\n    </tr>\n    <tr>\n      <th>11</th>\n      <td>0.23</td>\n      <td>1</td>\n      <td>362</td>\n      <td>1</td>\n    </tr>\n    <tr>\n      <th>12</th>\n      <td>0.48</td>\n      <td>1</td>\n      <td>572</td>\n      <td>2</td>\n    </tr>\n    <tr>\n      <th>13</th>\n      <td>0.41</td>\n      <td>2</td>\n      <td>526</td>\n      <td>2</td>\n    </tr>\n    <tr>\n      <th>14</th>\n      <td>0.55</td>\n      <td>3</td>\n      <td>682</td>\n      <td>2</td>\n    </tr>\n    <tr>\n      <th>15</th>\n      <td>0.70</td>\n      <td>4</td>\n      <td>1575</td>\n      <td>4</td>\n    </tr>\n    <tr>\n      <th>16</th>\n      <td>0.65</td>\n      <td>3</td>\n      <td>1480</td>\n      <td>3</td>\n    </tr>\n    <tr>\n      <th>17</th>\n      <td>0.80</td>\n      <td>4</td>\n      <td>2390</td>\n      <td>4</td>\n    </tr>\n    <tr>\n      <th>18</th>\n      <td>0.87</td>\n      <td>4</td>\n      <td>2855</td>\n      <td>5</td>\n    </tr>\n    <tr>\n      <th>19</th>\n      <td>0.38</td>\n      <td>2</td>\n      <td>523</td>\n      <td>1</td>\n    </tr>\n    <tr>\n      <th>20</th>\n      <td>0.60</td>\n      <td>2</td>\n      <td>1025</td>\n      <td>2</td>\n    </tr>\n    <tr>\n      <th>21</th>\n      <td>0.90</td>\n      <td>5</td>\n      <td>3259</td>\n      <td>5</td>\n    </tr>\n    <tr>\n      <th>22</th>\n      <td>1.00</td>\n      <td>6</td>\n      <td>4816</td>\n      <td>7</td>\n    </tr>\n    <tr>\n      <th>23</th>\n      <td>0.75</td>\n      <td>3</td>\n      <td>1269</td>\n      <td>3</td>\n    </tr>\n    <tr>\n      <th>24</th>\n      <td>0.80</td>\n      <td>3</td>\n      <td>1540</td>\n      <td>3</td>\n    </tr>\n    <tr>\n      <th>25</th>\n      <td>0.46</td>\n      <td>1</td>\n      <td>605</td>\n      <td>2</td>\n    </tr>\n    <tr>\n      <th>26</th>\n      <td>0.50</td>\n      <td>2</td>\n      <td>832</td>\n      <td>2</td>\n    </tr>\n    <tr>\n      <th>27</th>\n      <td>0.35</td>\n      <td>1</td>\n      <td>428</td>\n      <td>1</td>\n    </tr>\n    <tr>\n      <th>28</th>\n      <td>0.70</td>\n      <td>2</td>\n      <td>1015</td>\n      <td>3</td>\n    </tr>\n  </tbody>\n</table>\n</div>"
     },
     "execution_count": 2,
     "metadata": {},
     "output_type": "execute_result"
    }
   ],
   "source": [
    "# read in the dataset\n",
    "hr_df = pd.read_csv('hr_dataset.csv')\n",
    "hr_df"
   ],
   "metadata": {
    "collapsed": false,
    "pycharm": {
     "name": "#%%\n"
    }
   }
  },
  {
   "cell_type": "code",
   "execution_count": 4,
   "outputs": [],
   "source": [
    "# create the standard scaler instance\n",
    "\n",
    "scaler = StandardScaler()\n",
    "\n",
    "# Fit the StandardScaler\n",
    "scaler.fit(hr_df)\n",
    "\n",
    "# Scale the data\n",
    "scaled_data = scaler.transform(hr_df)"
   ],
   "metadata": {
    "collapsed": false,
    "pycharm": {
     "name": "#%%\n"
    }
   }
  },
  {
   "cell_type": "code",
   "execution_count": 6,
   "outputs": [
    {
     "data": {
      "text/plain": "   Satisfaction_Level  Num_Projects  Time_Spent  Num_Promotions\n0           -1.303615     -1.162476   -1.049481       -0.558656\n1           -1.512945     -1.162476   -1.094603       -1.804887\n2            1.208335      0.860233    1.187080        1.310692\n3            0.161689      0.185996   -0.030385        0.064460\n4           -0.466299     -0.488240   -0.596549       -0.558656",
      "text/html": "<div>\n<style scoped>\n    .dataframe tbody tr th:only-of-type {\n        vertical-align: middle;\n    }\n\n    .dataframe tbody tr th {\n        vertical-align: top;\n    }\n\n    .dataframe thead th {\n        text-align: right;\n    }\n</style>\n<table border=\"1\" class=\"dataframe\">\n  <thead>\n    <tr style=\"text-align: right;\">\n      <th></th>\n      <th>Satisfaction_Level</th>\n      <th>Num_Projects</th>\n      <th>Time_Spent</th>\n      <th>Num_Promotions</th>\n    </tr>\n  </thead>\n  <tbody>\n    <tr>\n      <th>0</th>\n      <td>-1.303615</td>\n      <td>-1.162476</td>\n      <td>-1.049481</td>\n      <td>-0.558656</td>\n    </tr>\n    <tr>\n      <th>1</th>\n      <td>-1.512945</td>\n      <td>-1.162476</td>\n      <td>-1.094603</td>\n      <td>-1.804887</td>\n    </tr>\n    <tr>\n      <th>2</th>\n      <td>1.208335</td>\n      <td>0.860233</td>\n      <td>1.187080</td>\n      <td>1.310692</td>\n    </tr>\n    <tr>\n      <th>3</th>\n      <td>0.161689</td>\n      <td>0.185996</td>\n      <td>-0.030385</td>\n      <td>0.064460</td>\n    </tr>\n    <tr>\n      <th>4</th>\n      <td>-0.466299</td>\n      <td>-0.488240</td>\n      <td>-0.596549</td>\n      <td>-0.558656</td>\n    </tr>\n  </tbody>\n</table>\n</div>"
     },
     "execution_count": 6,
     "metadata": {},
     "output_type": "execute_result"
    }
   ],
   "source": [
    "# Create a dataframe with the scaled data\n",
    "\n",
    "transformed_scaled_data = pd.DataFrame(scaled_data, columns=hr_df.columns)\n",
    "\n",
    "transformed_scaled_data.head()"
   ],
   "metadata": {
    "collapsed": false,
    "pycharm": {
     "name": "#%%\n"
    }
   }
  },
  {
   "cell_type": "code",
   "execution_count": null,
   "outputs": [],
   "source": [],
   "metadata": {
    "collapsed": false,
    "pycharm": {
     "name": "#%%\n"
    }
   }
  }
 ],
 "metadata": {
  "kernelspec": {
   "display_name": "Python 3",
   "language": "python",
   "name": "python3"
  },
  "language_info": {
   "codemirror_mode": {
    "name": "ipython",
    "version": 2
   },
   "file_extension": ".py",
   "mimetype": "text/x-python",
   "name": "python",
   "nbconvert_exporter": "python",
   "pygments_lexer": "ipython2",
   "version": "2.7.6"
  }
 },
 "nbformat": 4,
 "nbformat_minor": 0
}