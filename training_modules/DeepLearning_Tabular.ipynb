{
 "cells": [
  {
   "cell_type": "code",
   "execution_count": 1,
   "metadata": {
    "collapsed": true,
    "pycharm": {
     "name": "#%%\n"
    }
   },
   "outputs": [],
   "source": [
    "# import dependencies\n",
    "from sklearn.preprocessing import StandardScaler, OneHotEncoder\n",
    "from sklearn.model_selection import train_test_split\n",
    "import pandas as pd\n",
    "from pandas import Series\n",
    "import tensorflow as tf"
   ]
  },
  {
   "cell_type": "code",
   "execution_count": 2,
   "outputs": [
    {
     "data": {
      "text/plain": "   Age Attrition     BusinessTravel  DailyRate              Department  \\\n0   41       Yes      Travel_Rarely       1102                   Sales   \n1   49        No  Travel_Frequently        279  Research & Development   \n2   37       Yes      Travel_Rarely       1373  Research & Development   \n3   33        No  Travel_Frequently       1392  Research & Development   \n4   27        No      Travel_Rarely        591  Research & Development   \n\n   DistanceFromHome  Education EducationField  EmployeeCount  EmployeeNumber  \\\n0                 1          2  Life Sciences              1               1   \n1                 8          1  Life Sciences              1               2   \n2                 2          2          Other              1               4   \n3                 3          4  Life Sciences              1               5   \n4                 2          1        Medical              1               7   \n\n   ...  RelationshipSatisfaction StandardHours  StockOptionLevel  \\\n0  ...                         1            80                 0   \n1  ...                         4            80                 1   \n2  ...                         2            80                 0   \n3  ...                         3            80                 0   \n4  ...                         4            80                 1   \n\n   TotalWorkingYears  TrainingTimesLastYear WorkLifeBalance  YearsAtCompany  \\\n0                  8                      0               1               6   \n1                 10                      3               3              10   \n2                  7                      3               3               0   \n3                  8                      3               3               8   \n4                  6                      3               3               2   \n\n  YearsInCurrentRole  YearsSinceLastPromotion  YearsWithCurrManager  \n0                  4                        0                     5  \n1                  7                        1                     7  \n2                  0                        0                     0  \n3                  7                        3                     0  \n4                  2                        2                     2  \n\n[5 rows x 35 columns]",
      "text/html": "<div>\n<style scoped>\n    .dataframe tbody tr th:only-of-type {\n        vertical-align: middle;\n    }\n\n    .dataframe tbody tr th {\n        vertical-align: top;\n    }\n\n    .dataframe thead th {\n        text-align: right;\n    }\n</style>\n<table border=\"1\" class=\"dataframe\">\n  <thead>\n    <tr style=\"text-align: right;\">\n      <th></th>\n      <th>Age</th>\n      <th>Attrition</th>\n      <th>BusinessTravel</th>\n      <th>DailyRate</th>\n      <th>Department</th>\n      <th>DistanceFromHome</th>\n      <th>Education</th>\n      <th>EducationField</th>\n      <th>EmployeeCount</th>\n      <th>EmployeeNumber</th>\n      <th>...</th>\n      <th>RelationshipSatisfaction</th>\n      <th>StandardHours</th>\n      <th>StockOptionLevel</th>\n      <th>TotalWorkingYears</th>\n      <th>TrainingTimesLastYear</th>\n      <th>WorkLifeBalance</th>\n      <th>YearsAtCompany</th>\n      <th>YearsInCurrentRole</th>\n      <th>YearsSinceLastPromotion</th>\n      <th>YearsWithCurrManager</th>\n    </tr>\n  </thead>\n  <tbody>\n    <tr>\n      <th>0</th>\n      <td>41</td>\n      <td>Yes</td>\n      <td>Travel_Rarely</td>\n      <td>1102</td>\n      <td>Sales</td>\n      <td>1</td>\n      <td>2</td>\n      <td>Life Sciences</td>\n      <td>1</td>\n      <td>1</td>\n      <td>...</td>\n      <td>1</td>\n      <td>80</td>\n      <td>0</td>\n      <td>8</td>\n      <td>0</td>\n      <td>1</td>\n      <td>6</td>\n      <td>4</td>\n      <td>0</td>\n      <td>5</td>\n    </tr>\n    <tr>\n      <th>1</th>\n      <td>49</td>\n      <td>No</td>\n      <td>Travel_Frequently</td>\n      <td>279</td>\n      <td>Research &amp; Development</td>\n      <td>8</td>\n      <td>1</td>\n      <td>Life Sciences</td>\n      <td>1</td>\n      <td>2</td>\n      <td>...</td>\n      <td>4</td>\n      <td>80</td>\n      <td>1</td>\n      <td>10</td>\n      <td>3</td>\n      <td>3</td>\n      <td>10</td>\n      <td>7</td>\n      <td>1</td>\n      <td>7</td>\n    </tr>\n    <tr>\n      <th>2</th>\n      <td>37</td>\n      <td>Yes</td>\n      <td>Travel_Rarely</td>\n      <td>1373</td>\n      <td>Research &amp; Development</td>\n      <td>2</td>\n      <td>2</td>\n      <td>Other</td>\n      <td>1</td>\n      <td>4</td>\n      <td>...</td>\n      <td>2</td>\n      <td>80</td>\n      <td>0</td>\n      <td>7</td>\n      <td>3</td>\n      <td>3</td>\n      <td>0</td>\n      <td>0</td>\n      <td>0</td>\n      <td>0</td>\n    </tr>\n    <tr>\n      <th>3</th>\n      <td>33</td>\n      <td>No</td>\n      <td>Travel_Frequently</td>\n      <td>1392</td>\n      <td>Research &amp; Development</td>\n      <td>3</td>\n      <td>4</td>\n      <td>Life Sciences</td>\n      <td>1</td>\n      <td>5</td>\n      <td>...</td>\n      <td>3</td>\n      <td>80</td>\n      <td>0</td>\n      <td>8</td>\n      <td>3</td>\n      <td>3</td>\n      <td>8</td>\n      <td>7</td>\n      <td>3</td>\n      <td>0</td>\n    </tr>\n    <tr>\n      <th>4</th>\n      <td>27</td>\n      <td>No</td>\n      <td>Travel_Rarely</td>\n      <td>591</td>\n      <td>Research &amp; Development</td>\n      <td>2</td>\n      <td>1</td>\n      <td>Medical</td>\n      <td>1</td>\n      <td>7</td>\n      <td>...</td>\n      <td>4</td>\n      <td>80</td>\n      <td>1</td>\n      <td>6</td>\n      <td>3</td>\n      <td>3</td>\n      <td>2</td>\n      <td>2</td>\n      <td>2</td>\n      <td>2</td>\n    </tr>\n  </tbody>\n</table>\n<p>5 rows × 35 columns</p>\n</div>"
     },
     "execution_count": 2,
     "metadata": {},
     "output_type": "execute_result"
    }
   ],
   "source": [
    "# import dataset and create a dataframe\n",
    "\n",
    "attrition_df = pd.read_csv('HR-Employee-Attrition.csv')\n",
    "attrition_df.head()"
   ],
   "metadata": {
    "collapsed": false,
    "pycharm": {
     "name": "#%%\n"
    }
   }
  },
  {
   "cell_type": "code",
   "execution_count": 3,
   "outputs": [
    {
     "data": {
      "text/plain": "Attrition         2\nBusinessTravel    3\nDepartment        3\nEducationField    6\nGender            2\nJobRole           9\nMaritalStatus     3\nOver18            1\nOverTime          2\ndtype: int64"
     },
     "execution_count": 3,
     "metadata": {},
     "output_type": "execute_result"
    }
   ],
   "source": [
    "# Generate our categorical variable list\n",
    "attrition_cat = attrition_df.dtypes[attrition_df.dtypes == \"object\"].index.tolist()\n",
    "\n",
    "# Check the number of unique values in each column\n",
    "attrition_df[attrition_cat].nunique()"
   ],
   "metadata": {
    "collapsed": false,
    "pycharm": {
     "name": "#%%\n"
    }
   }
  },
  {
   "cell_type": "code",
   "execution_count": 4,
   "outputs": [
    {
     "data": {
      "text/plain": "   Attrition_No  Attrition_Yes  BusinessTravel_Non-Travel  \\\n0           0.0            1.0                        0.0   \n1           1.0            0.0                        0.0   \n2           0.0            1.0                        0.0   \n3           1.0            0.0                        0.0   \n4           1.0            0.0                        0.0   \n\n   BusinessTravel_Travel_Frequently  BusinessTravel_Travel_Rarely  \\\n0                               0.0                           1.0   \n1                               1.0                           0.0   \n2                               0.0                           1.0   \n3                               1.0                           0.0   \n4                               0.0                           1.0   \n\n   Department_Human Resources  Department_Research & Development  \\\n0                         0.0                                0.0   \n1                         0.0                                1.0   \n2                         0.0                                1.0   \n3                         0.0                                1.0   \n4                         0.0                                1.0   \n\n   Department_Sales  EducationField_Human Resources  \\\n0               1.0                             0.0   \n1               0.0                             0.0   \n2               0.0                             0.0   \n3               0.0                             0.0   \n4               0.0                             0.0   \n\n   EducationField_Life Sciences  ...  JobRole_Research Director  \\\n0                           1.0  ...                        0.0   \n1                           1.0  ...                        0.0   \n2                           0.0  ...                        0.0   \n3                           1.0  ...                        0.0   \n4                           0.0  ...                        0.0   \n\n   JobRole_Research Scientist  JobRole_Sales Executive  \\\n0                         0.0                      1.0   \n1                         1.0                      0.0   \n2                         0.0                      0.0   \n3                         1.0                      0.0   \n4                         0.0                      0.0   \n\n   JobRole_Sales Representative  MaritalStatus_Divorced  \\\n0                           0.0                     0.0   \n1                           0.0                     0.0   \n2                           0.0                     0.0   \n3                           0.0                     0.0   \n4                           0.0                     0.0   \n\n   MaritalStatus_Married  MaritalStatus_Single  Over18_Y  OverTime_No  \\\n0                    0.0                   1.0       1.0          0.0   \n1                    1.0                   0.0       1.0          1.0   \n2                    0.0                   1.0       1.0          0.0   \n3                    1.0                   0.0       1.0          0.0   \n4                    1.0                   0.0       1.0          1.0   \n\n   OverTime_Yes  \n0           1.0  \n1           0.0  \n2           1.0  \n3           1.0  \n4           0.0  \n\n[5 rows x 31 columns]",
      "text/html": "<div>\n<style scoped>\n    .dataframe tbody tr th:only-of-type {\n        vertical-align: middle;\n    }\n\n    .dataframe tbody tr th {\n        vertical-align: top;\n    }\n\n    .dataframe thead th {\n        text-align: right;\n    }\n</style>\n<table border=\"1\" class=\"dataframe\">\n  <thead>\n    <tr style=\"text-align: right;\">\n      <th></th>\n      <th>Attrition_No</th>\n      <th>Attrition_Yes</th>\n      <th>BusinessTravel_Non-Travel</th>\n      <th>BusinessTravel_Travel_Frequently</th>\n      <th>BusinessTravel_Travel_Rarely</th>\n      <th>Department_Human Resources</th>\n      <th>Department_Research &amp; Development</th>\n      <th>Department_Sales</th>\n      <th>EducationField_Human Resources</th>\n      <th>EducationField_Life Sciences</th>\n      <th>...</th>\n      <th>JobRole_Research Director</th>\n      <th>JobRole_Research Scientist</th>\n      <th>JobRole_Sales Executive</th>\n      <th>JobRole_Sales Representative</th>\n      <th>MaritalStatus_Divorced</th>\n      <th>MaritalStatus_Married</th>\n      <th>MaritalStatus_Single</th>\n      <th>Over18_Y</th>\n      <th>OverTime_No</th>\n      <th>OverTime_Yes</th>\n    </tr>\n  </thead>\n  <tbody>\n    <tr>\n      <th>0</th>\n      <td>0.0</td>\n      <td>1.0</td>\n      <td>0.0</td>\n      <td>0.0</td>\n      <td>1.0</td>\n      <td>0.0</td>\n      <td>0.0</td>\n      <td>1.0</td>\n      <td>0.0</td>\n      <td>1.0</td>\n      <td>...</td>\n      <td>0.0</td>\n      <td>0.0</td>\n      <td>1.0</td>\n      <td>0.0</td>\n      <td>0.0</td>\n      <td>0.0</td>\n      <td>1.0</td>\n      <td>1.0</td>\n      <td>0.0</td>\n      <td>1.0</td>\n    </tr>\n    <tr>\n      <th>1</th>\n      <td>1.0</td>\n      <td>0.0</td>\n      <td>0.0</td>\n      <td>1.0</td>\n      <td>0.0</td>\n      <td>0.0</td>\n      <td>1.0</td>\n      <td>0.0</td>\n      <td>0.0</td>\n      <td>1.0</td>\n      <td>...</td>\n      <td>0.0</td>\n      <td>1.0</td>\n      <td>0.0</td>\n      <td>0.0</td>\n      <td>0.0</td>\n      <td>1.0</td>\n      <td>0.0</td>\n      <td>1.0</td>\n      <td>1.0</td>\n      <td>0.0</td>\n    </tr>\n    <tr>\n      <th>2</th>\n      <td>0.0</td>\n      <td>1.0</td>\n      <td>0.0</td>\n      <td>0.0</td>\n      <td>1.0</td>\n      <td>0.0</td>\n      <td>1.0</td>\n      <td>0.0</td>\n      <td>0.0</td>\n      <td>0.0</td>\n      <td>...</td>\n      <td>0.0</td>\n      <td>0.0</td>\n      <td>0.0</td>\n      <td>0.0</td>\n      <td>0.0</td>\n      <td>0.0</td>\n      <td>1.0</td>\n      <td>1.0</td>\n      <td>0.0</td>\n      <td>1.0</td>\n    </tr>\n    <tr>\n      <th>3</th>\n      <td>1.0</td>\n      <td>0.0</td>\n      <td>0.0</td>\n      <td>1.0</td>\n      <td>0.0</td>\n      <td>0.0</td>\n      <td>1.0</td>\n      <td>0.0</td>\n      <td>0.0</td>\n      <td>1.0</td>\n      <td>...</td>\n      <td>0.0</td>\n      <td>1.0</td>\n      <td>0.0</td>\n      <td>0.0</td>\n      <td>0.0</td>\n      <td>1.0</td>\n      <td>0.0</td>\n      <td>1.0</td>\n      <td>0.0</td>\n      <td>1.0</td>\n    </tr>\n    <tr>\n      <th>4</th>\n      <td>1.0</td>\n      <td>0.0</td>\n      <td>0.0</td>\n      <td>0.0</td>\n      <td>1.0</td>\n      <td>0.0</td>\n      <td>1.0</td>\n      <td>0.0</td>\n      <td>0.0</td>\n      <td>0.0</td>\n      <td>...</td>\n      <td>0.0</td>\n      <td>0.0</td>\n      <td>0.0</td>\n      <td>0.0</td>\n      <td>0.0</td>\n      <td>1.0</td>\n      <td>0.0</td>\n      <td>1.0</td>\n      <td>1.0</td>\n      <td>0.0</td>\n    </tr>\n  </tbody>\n</table>\n<p>5 rows × 31 columns</p>\n</div>"
     },
     "execution_count": 4,
     "metadata": {},
     "output_type": "execute_result"
    }
   ],
   "source": [
    "# Create a OneHotEncoder instance\n",
    "enc = OneHotEncoder(sparse=False)\n",
    "\n",
    "# Fit and transform the OneHotEncoder using the categorical variable list\n",
    "encode_df = pd.DataFrame(enc.fit_transform(attrition_df[attrition_cat]))\n",
    "\n",
    "# Add the encoded variable names to the DataFrame\n",
    "encode_df.columns = enc.get_feature_names_out(attrition_cat)\n",
    "encode_df.head()"
   ],
   "metadata": {
    "collapsed": false,
    "pycharm": {
     "name": "#%%\n"
    }
   }
  },
  {
   "cell_type": "code",
   "execution_count": 5,
   "outputs": [
    {
     "name": "stderr",
     "output_type": "stream",
     "text": [
      "C:\\Users\\nytec\\anaconda3\\envs\\mlenv\\lib\\site-packages\\ipykernel_launcher.py:3: FutureWarning: In a future version of pandas all arguments of DataFrame.drop except for the argument 'labels' will be keyword-only\n",
      "  This is separate from the ipykernel package so we can avoid doing imports until\n"
     ]
    },
    {
     "data": {
      "text/plain": "      Age  DailyRate  DistanceFromHome  Education  EmployeeCount  \\\n0      41       1102                 1          2              1   \n1      49        279                 8          1              1   \n2      37       1373                 2          2              1   \n3      33       1392                 3          4              1   \n4      27        591                 2          1              1   \n...   ...        ...               ...        ...            ...   \n1465   36        884                23          2              1   \n1466   39        613                 6          1              1   \n1467   27        155                 4          3              1   \n1468   49       1023                 2          3              1   \n1469   34        628                 8          3              1   \n\n      EmployeeNumber  EnvironmentSatisfaction  HourlyRate  JobInvolvement  \\\n0                  1                        2          94               3   \n1                  2                        3          61               2   \n2                  4                        4          92               2   \n3                  5                        4          56               3   \n4                  7                        1          40               3   \n...              ...                      ...         ...             ...   \n1465            2061                        3          41               4   \n1466            2062                        4          42               2   \n1467            2064                        2          87               4   \n1468            2065                        4          63               2   \n1469            2068                        2          82               4   \n\n      JobLevel  ...  JobRole_Research Director  JobRole_Research Scientist  \\\n0            2  ...                        0.0                         0.0   \n1            2  ...                        0.0                         1.0   \n2            1  ...                        0.0                         0.0   \n3            1  ...                        0.0                         1.0   \n4            1  ...                        0.0                         0.0   \n...        ...  ...                        ...                         ...   \n1465         2  ...                        0.0                         0.0   \n1466         3  ...                        0.0                         0.0   \n1467         2  ...                        0.0                         0.0   \n1468         2  ...                        0.0                         0.0   \n1469         2  ...                        0.0                         0.0   \n\n      JobRole_Sales Executive  JobRole_Sales Representative  \\\n0                         1.0                           0.0   \n1                         0.0                           0.0   \n2                         0.0                           0.0   \n3                         0.0                           0.0   \n4                         0.0                           0.0   \n...                       ...                           ...   \n1465                      0.0                           0.0   \n1466                      0.0                           0.0   \n1467                      0.0                           0.0   \n1468                      1.0                           0.0   \n1469                      0.0                           0.0   \n\n      MaritalStatus_Divorced  MaritalStatus_Married  MaritalStatus_Single  \\\n0                        0.0                    0.0                   1.0   \n1                        0.0                    1.0                   0.0   \n2                        0.0                    0.0                   1.0   \n3                        0.0                    1.0                   0.0   \n4                        0.0                    1.0                   0.0   \n...                      ...                    ...                   ...   \n1465                     0.0                    1.0                   0.0   \n1466                     0.0                    1.0                   0.0   \n1467                     0.0                    1.0                   0.0   \n1468                     0.0                    1.0                   0.0   \n1469                     0.0                    1.0                   0.0   \n\n      Over18_Y  OverTime_No  OverTime_Yes  \n0          1.0          0.0           1.0  \n1          1.0          1.0           0.0  \n2          1.0          0.0           1.0  \n3          1.0          0.0           1.0  \n4          1.0          1.0           0.0  \n...        ...          ...           ...  \n1465       1.0          1.0           0.0  \n1466       1.0          1.0           0.0  \n1467       1.0          0.0           1.0  \n1468       1.0          1.0           0.0  \n1469       1.0          1.0           0.0  \n\n[1470 rows x 57 columns]",
      "text/html": "<div>\n<style scoped>\n    .dataframe tbody tr th:only-of-type {\n        vertical-align: middle;\n    }\n\n    .dataframe tbody tr th {\n        vertical-align: top;\n    }\n\n    .dataframe thead th {\n        text-align: right;\n    }\n</style>\n<table border=\"1\" class=\"dataframe\">\n  <thead>\n    <tr style=\"text-align: right;\">\n      <th></th>\n      <th>Age</th>\n      <th>DailyRate</th>\n      <th>DistanceFromHome</th>\n      <th>Education</th>\n      <th>EmployeeCount</th>\n      <th>EmployeeNumber</th>\n      <th>EnvironmentSatisfaction</th>\n      <th>HourlyRate</th>\n      <th>JobInvolvement</th>\n      <th>JobLevel</th>\n      <th>...</th>\n      <th>JobRole_Research Director</th>\n      <th>JobRole_Research Scientist</th>\n      <th>JobRole_Sales Executive</th>\n      <th>JobRole_Sales Representative</th>\n      <th>MaritalStatus_Divorced</th>\n      <th>MaritalStatus_Married</th>\n      <th>MaritalStatus_Single</th>\n      <th>Over18_Y</th>\n      <th>OverTime_No</th>\n      <th>OverTime_Yes</th>\n    </tr>\n  </thead>\n  <tbody>\n    <tr>\n      <th>0</th>\n      <td>41</td>\n      <td>1102</td>\n      <td>1</td>\n      <td>2</td>\n      <td>1</td>\n      <td>1</td>\n      <td>2</td>\n      <td>94</td>\n      <td>3</td>\n      <td>2</td>\n      <td>...</td>\n      <td>0.0</td>\n      <td>0.0</td>\n      <td>1.0</td>\n      <td>0.0</td>\n      <td>0.0</td>\n      <td>0.0</td>\n      <td>1.0</td>\n      <td>1.0</td>\n      <td>0.0</td>\n      <td>1.0</td>\n    </tr>\n    <tr>\n      <th>1</th>\n      <td>49</td>\n      <td>279</td>\n      <td>8</td>\n      <td>1</td>\n      <td>1</td>\n      <td>2</td>\n      <td>3</td>\n      <td>61</td>\n      <td>2</td>\n      <td>2</td>\n      <td>...</td>\n      <td>0.0</td>\n      <td>1.0</td>\n      <td>0.0</td>\n      <td>0.0</td>\n      <td>0.0</td>\n      <td>1.0</td>\n      <td>0.0</td>\n      <td>1.0</td>\n      <td>1.0</td>\n      <td>0.0</td>\n    </tr>\n    <tr>\n      <th>2</th>\n      <td>37</td>\n      <td>1373</td>\n      <td>2</td>\n      <td>2</td>\n      <td>1</td>\n      <td>4</td>\n      <td>4</td>\n      <td>92</td>\n      <td>2</td>\n      <td>1</td>\n      <td>...</td>\n      <td>0.0</td>\n      <td>0.0</td>\n      <td>0.0</td>\n      <td>0.0</td>\n      <td>0.0</td>\n      <td>0.0</td>\n      <td>1.0</td>\n      <td>1.0</td>\n      <td>0.0</td>\n      <td>1.0</td>\n    </tr>\n    <tr>\n      <th>3</th>\n      <td>33</td>\n      <td>1392</td>\n      <td>3</td>\n      <td>4</td>\n      <td>1</td>\n      <td>5</td>\n      <td>4</td>\n      <td>56</td>\n      <td>3</td>\n      <td>1</td>\n      <td>...</td>\n      <td>0.0</td>\n      <td>1.0</td>\n      <td>0.0</td>\n      <td>0.0</td>\n      <td>0.0</td>\n      <td>1.0</td>\n      <td>0.0</td>\n      <td>1.0</td>\n      <td>0.0</td>\n      <td>1.0</td>\n    </tr>\n    <tr>\n      <th>4</th>\n      <td>27</td>\n      <td>591</td>\n      <td>2</td>\n      <td>1</td>\n      <td>1</td>\n      <td>7</td>\n      <td>1</td>\n      <td>40</td>\n      <td>3</td>\n      <td>1</td>\n      <td>...</td>\n      <td>0.0</td>\n      <td>0.0</td>\n      <td>0.0</td>\n      <td>0.0</td>\n      <td>0.0</td>\n      <td>1.0</td>\n      <td>0.0</td>\n      <td>1.0</td>\n      <td>1.0</td>\n      <td>0.0</td>\n    </tr>\n    <tr>\n      <th>...</th>\n      <td>...</td>\n      <td>...</td>\n      <td>...</td>\n      <td>...</td>\n      <td>...</td>\n      <td>...</td>\n      <td>...</td>\n      <td>...</td>\n      <td>...</td>\n      <td>...</td>\n      <td>...</td>\n      <td>...</td>\n      <td>...</td>\n      <td>...</td>\n      <td>...</td>\n      <td>...</td>\n      <td>...</td>\n      <td>...</td>\n      <td>...</td>\n      <td>...</td>\n      <td>...</td>\n    </tr>\n    <tr>\n      <th>1465</th>\n      <td>36</td>\n      <td>884</td>\n      <td>23</td>\n      <td>2</td>\n      <td>1</td>\n      <td>2061</td>\n      <td>3</td>\n      <td>41</td>\n      <td>4</td>\n      <td>2</td>\n      <td>...</td>\n      <td>0.0</td>\n      <td>0.0</td>\n      <td>0.0</td>\n      <td>0.0</td>\n      <td>0.0</td>\n      <td>1.0</td>\n      <td>0.0</td>\n      <td>1.0</td>\n      <td>1.0</td>\n      <td>0.0</td>\n    </tr>\n    <tr>\n      <th>1466</th>\n      <td>39</td>\n      <td>613</td>\n      <td>6</td>\n      <td>1</td>\n      <td>1</td>\n      <td>2062</td>\n      <td>4</td>\n      <td>42</td>\n      <td>2</td>\n      <td>3</td>\n      <td>...</td>\n      <td>0.0</td>\n      <td>0.0</td>\n      <td>0.0</td>\n      <td>0.0</td>\n      <td>0.0</td>\n      <td>1.0</td>\n      <td>0.0</td>\n      <td>1.0</td>\n      <td>1.0</td>\n      <td>0.0</td>\n    </tr>\n    <tr>\n      <th>1467</th>\n      <td>27</td>\n      <td>155</td>\n      <td>4</td>\n      <td>3</td>\n      <td>1</td>\n      <td>2064</td>\n      <td>2</td>\n      <td>87</td>\n      <td>4</td>\n      <td>2</td>\n      <td>...</td>\n      <td>0.0</td>\n      <td>0.0</td>\n      <td>0.0</td>\n      <td>0.0</td>\n      <td>0.0</td>\n      <td>1.0</td>\n      <td>0.0</td>\n      <td>1.0</td>\n      <td>0.0</td>\n      <td>1.0</td>\n    </tr>\n    <tr>\n      <th>1468</th>\n      <td>49</td>\n      <td>1023</td>\n      <td>2</td>\n      <td>3</td>\n      <td>1</td>\n      <td>2065</td>\n      <td>4</td>\n      <td>63</td>\n      <td>2</td>\n      <td>2</td>\n      <td>...</td>\n      <td>0.0</td>\n      <td>0.0</td>\n      <td>1.0</td>\n      <td>0.0</td>\n      <td>0.0</td>\n      <td>1.0</td>\n      <td>0.0</td>\n      <td>1.0</td>\n      <td>1.0</td>\n      <td>0.0</td>\n    </tr>\n    <tr>\n      <th>1469</th>\n      <td>34</td>\n      <td>628</td>\n      <td>8</td>\n      <td>3</td>\n      <td>1</td>\n      <td>2068</td>\n      <td>2</td>\n      <td>82</td>\n      <td>4</td>\n      <td>2</td>\n      <td>...</td>\n      <td>0.0</td>\n      <td>0.0</td>\n      <td>0.0</td>\n      <td>0.0</td>\n      <td>0.0</td>\n      <td>1.0</td>\n      <td>0.0</td>\n      <td>1.0</td>\n      <td>1.0</td>\n      <td>0.0</td>\n    </tr>\n  </tbody>\n</table>\n<p>1470 rows × 57 columns</p>\n</div>"
     },
     "execution_count": 5,
     "metadata": {},
     "output_type": "execute_result"
    }
   ],
   "source": [
    "# Merge one-hot encoded features and drop the originals\n",
    "attrition_df =attrition_df.merge(encode_df, left_index=True, right_index=True)\n",
    "attrition_df = attrition_df.drop(attrition_cat,1)\n",
    "attrition_df"
   ],
   "metadata": {
    "collapsed": false,
    "pycharm": {
     "name": "#%%\n"
    }
   }
  },
  {
   "cell_type": "code",
   "execution_count": 6,
   "outputs": [],
   "source": [
    "# Split our preprocessed data into our features and target arrays\n",
    "y = attrition_df[\"Attrition_Yes\"].values\n",
    "X = attrition_df.drop([\"Attrition_Yes\",\"Attrition_No\"],axis=1).values\n",
    "\n",
    "# Split the preprocessed data into a training and testing dataset\n",
    "X_train, X_test, y_train, y_test = train_test_split(X, y, random_state=78)"
   ],
   "metadata": {
    "collapsed": false,
    "pycharm": {
     "name": "#%%\n"
    }
   }
  },
  {
   "cell_type": "code",
   "execution_count": 7,
   "outputs": [],
   "source": [
    "# Create a StandardScaler instance\n",
    "scaler = StandardScaler()\n",
    "\n",
    "# Fit the StandardScaler\n",
    "X_scaler = scaler.fit(X_train)\n",
    "\n",
    "# Scale the data\n",
    "X_train_scaled = X_scaler.transform(X_train)\n",
    "X_test_scaled = X_scaler.transform(X_test)"
   ],
   "metadata": {
    "collapsed": false,
    "pycharm": {
     "name": "#%%\n"
    }
   }
  },
  {
   "cell_type": "code",
   "execution_count": 8,
   "outputs": [
    {
     "name": "stdout",
     "output_type": "stream",
     "text": [
      "Model: \"sequential\"\n",
      "_________________________________________________________________\n",
      " Layer (type)                Output Shape              Param #   \n",
      "=================================================================\n",
      " dense (Dense)               (None, 8)                 448       \n",
      "                                                                 \n",
      " dense_1 (Dense)             (None, 5)                 45        \n",
      "                                                                 \n",
      " dense_2 (Dense)             (None, 1)                 6         \n",
      "                                                                 \n",
      "=================================================================\n",
      "Total params: 499\n",
      "Trainable params: 499\n",
      "Non-trainable params: 0\n",
      "_________________________________________________________________\n"
     ]
    }
   ],
   "source": [
    "# Define the model - deep neural net\n",
    "number_input_features = len(X_train[0])\n",
    "hidden_nodes_layer1 = 8\n",
    "hidden_nodes_layer2 = 5\n",
    "\n",
    "nn = tf.keras.models.Sequential()\n",
    "\n",
    "# First hidden layer\n",
    "nn.add(\n",
    "    tf.keras.layers.Dense(units=hidden_nodes_layer1, input_dim=number_input_features, activation=\"relu\")\n",
    ")\n",
    "\n",
    "# Second hidden layer\n",
    "nn.add(tf.keras.layers.Dense(units=hidden_nodes_layer2, activation=\"relu\"))\n",
    "\n",
    "# Output layer\n",
    "nn.add(tf.keras.layers.Dense(units=1, activation=\"sigmoid\"))\n",
    "\n",
    "# Check the structure of the model\n",
    "nn.summary()"
   ],
   "metadata": {
    "collapsed": false,
    "pycharm": {
     "name": "#%%\n"
    }
   }
  },
  {
   "cell_type": "code",
   "execution_count": 9,
   "outputs": [],
   "source": [
    "# Import checkpoint dependencies\n",
    "import os\n",
    "from tensorflow.keras.callbacks import ModelCheckpoint\n",
    "\n",
    "# Define the checkpoint path and filenames\n",
    "os.makedirs(\"checkpoints/\",exist_ok=True)\n",
    "checkpoint_path = \"checkpoints/weights.{epoch:02d}.hdf5\""
   ],
   "metadata": {
    "collapsed": false,
    "pycharm": {
     "name": "#%%\n"
    }
   }
  },
  {
   "cell_type": "code",
   "execution_count": 10,
   "outputs": [
    {
     "name": "stdout",
     "output_type": "stream",
     "text": [
      "Epoch 1/100\n",
      " 1/35 [..............................] - ETA: 9s - loss: 0.6567 - accuracy: 0.6562\n",
      "Epoch 1: saving model to checkpoints\\weights.01.hdf5\n",
      "35/35 [==============================] - 0s 1ms/step - loss: 0.6273 - accuracy: 0.7505\n",
      "Epoch 2/100\n",
      " 1/35 [..............................] - ETA: 0s - loss: 0.5743 - accuracy: 0.8438\n",
      "Epoch 2: saving model to checkpoints\\weights.02.hdf5\n",
      "35/35 [==============================] - 0s 985us/step - loss: 0.5723 - accuracy: 0.8240\n",
      "Epoch 3/100\n",
      " 1/35 [..............................] - ETA: 0s - loss: 0.5372 - accuracy: 0.7812\n",
      "Epoch 3: saving model to checkpoints\\weights.03.hdf5\n",
      "35/35 [==============================] - 0s 941us/step - loss: 0.5234 - accuracy: 0.8258\n",
      "Epoch 4/100\n",
      " 1/35 [..............................] - ETA: 0s - loss: 0.3936 - accuracy: 0.9688\n",
      "Epoch 4: saving model to checkpoints\\weights.04.hdf5\n",
      "35/35 [==============================] - 0s 1ms/step - loss: 0.4805 - accuracy: 0.8276\n",
      "Epoch 5/100\n",
      " 1/35 [..............................] - ETA: 0s - loss: 0.4580 - accuracy: 0.8438\n",
      "Epoch 5: saving model to checkpoints\\weights.05.hdf5\n",
      "35/35 [==============================] - 0s 941us/step - loss: 0.4460 - accuracy: 0.8276\n",
      "Epoch 6/100\n",
      " 1/35 [..............................] - ETA: 0s - loss: 0.5041 - accuracy: 0.7500\n",
      "Epoch 6: saving model to checkpoints\\weights.06.hdf5\n",
      "35/35 [==============================] - 0s 1ms/step - loss: 0.4199 - accuracy: 0.8276\n",
      "Epoch 7/100\n",
      " 1/35 [..............................] - ETA: 0s - loss: 0.3489 - accuracy: 0.9062\n",
      "Epoch 7: saving model to checkpoints\\weights.07.hdf5\n",
      "35/35 [==============================] - 0s 970us/step - loss: 0.4018 - accuracy: 0.8276\n",
      "Epoch 8/100\n",
      " 1/35 [..............................] - ETA: 0s - loss: 0.3963 - accuracy: 0.7812\n",
      "Epoch 8: saving model to checkpoints\\weights.08.hdf5\n",
      "35/35 [==============================] - 0s 971us/step - loss: 0.3892 - accuracy: 0.8276\n",
      "Epoch 9/100\n",
      " 1/35 [..............................] - ETA: 0s - loss: 0.4538 - accuracy: 0.8125\n",
      "Epoch 9: saving model to checkpoints\\weights.09.hdf5\n",
      "35/35 [==============================] - 0s 868us/step - loss: 0.3785 - accuracy: 0.8276\n",
      "Epoch 10/100\n",
      " 1/35 [..............................] - ETA: 0s - loss: 0.4149 - accuracy: 0.8125\n",
      "Epoch 10: saving model to checkpoints\\weights.10.hdf5\n",
      "35/35 [==============================] - 0s 868us/step - loss: 0.3707 - accuracy: 0.8276\n",
      "Epoch 11/100\n",
      " 1/35 [..............................] - ETA: 0s - loss: 0.3675 - accuracy: 0.7500\n",
      "Epoch 11: saving model to checkpoints\\weights.11.hdf5\n",
      "35/35 [==============================] - 0s 956us/step - loss: 0.3637 - accuracy: 0.8276\n",
      "Epoch 12/100\n",
      " 1/35 [..............................] - ETA: 0s - loss: 0.3586 - accuracy: 0.8438\n",
      "Epoch 12: saving model to checkpoints\\weights.12.hdf5\n",
      "35/35 [==============================] - 0s 868us/step - loss: 0.3574 - accuracy: 0.8276\n",
      "Epoch 13/100\n",
      " 1/35 [..............................] - ETA: 0s - loss: 0.4740 - accuracy: 0.7188\n",
      "Epoch 13: saving model to checkpoints\\weights.13.hdf5\n",
      "35/35 [==============================] - 0s 882us/step - loss: 0.3520 - accuracy: 0.8285\n",
      "Epoch 14/100\n",
      " 1/35 [..............................] - ETA: 0s - loss: 0.2320 - accuracy: 0.9375\n",
      "Epoch 14: saving model to checkpoints\\weights.14.hdf5\n",
      "35/35 [==============================] - 0s 838us/step - loss: 0.3462 - accuracy: 0.8321\n",
      "Epoch 15/100\n",
      " 1/35 [..............................] - ETA: 0s - loss: 0.3777 - accuracy: 0.7500\n",
      "Epoch 15: saving model to checkpoints\\weights.15.hdf5\n",
      "35/35 [==============================] - 0s 853us/step - loss: 0.3415 - accuracy: 0.8339\n",
      "Epoch 16/100\n",
      " 1/35 [..............................] - ETA: 0s - loss: 0.2825 - accuracy: 0.8750\n",
      "Epoch 16: saving model to checkpoints\\weights.16.hdf5\n",
      "35/35 [==============================] - 0s 897us/step - loss: 0.3352 - accuracy: 0.8403\n",
      "Epoch 17/100\n",
      " 1/35 [..............................] - ETA: 0s - loss: 0.1983 - accuracy: 0.9375\n",
      "Epoch 17: saving model to checkpoints\\weights.17.hdf5\n",
      "35/35 [==============================] - 0s 882us/step - loss: 0.3307 - accuracy: 0.8448\n",
      "Epoch 18/100\n",
      " 1/35 [..............................] - ETA: 0s - loss: 0.1807 - accuracy: 0.9688\n",
      "Epoch 18: saving model to checkpoints\\weights.18.hdf5\n",
      "35/35 [==============================] - 0s 838us/step - loss: 0.3258 - accuracy: 0.8530\n",
      "Epoch 19/100\n",
      " 1/35 [..............................] - ETA: 0s - loss: 0.3249 - accuracy: 0.8438\n",
      "Epoch 19: saving model to checkpoints\\weights.19.hdf5\n",
      "35/35 [==============================] - 0s 853us/step - loss: 0.3205 - accuracy: 0.8630\n",
      "Epoch 20/100\n",
      " 1/35 [..............................] - ETA: 0s - loss: 0.1402 - accuracy: 0.9688\n",
      "Epoch 20: saving model to checkpoints\\weights.20.hdf5\n",
      "35/35 [==============================] - 0s 823us/step - loss: 0.3160 - accuracy: 0.8666\n",
      "Epoch 21/100\n",
      " 1/35 [..............................] - ETA: 0s - loss: 0.6037 - accuracy: 0.6875\n",
      "Epoch 21: saving model to checkpoints\\weights.21.hdf5\n",
      "35/35 [==============================] - 0s 853us/step - loss: 0.3113 - accuracy: 0.8739\n",
      "Epoch 22/100\n",
      " 1/35 [..............................] - ETA: 0s - loss: 0.2235 - accuracy: 0.8438\n",
      "Epoch 22: saving model to checkpoints\\weights.22.hdf5\n",
      "35/35 [==============================] - 0s 838us/step - loss: 0.3066 - accuracy: 0.8793\n",
      "Epoch 23/100\n",
      " 1/35 [..............................] - ETA: 0s - loss: 0.4388 - accuracy: 0.8438\n",
      "Epoch 23: saving model to checkpoints\\weights.23.hdf5\n",
      "35/35 [==============================] - 0s 853us/step - loss: 0.3025 - accuracy: 0.8793\n",
      "Epoch 24/100\n",
      " 1/35 [..............................] - ETA: 0s - loss: 0.2519 - accuracy: 0.9375\n",
      "Epoch 24: saving model to checkpoints\\weights.24.hdf5\n",
      "35/35 [==============================] - 0s 853us/step - loss: 0.2976 - accuracy: 0.8829\n",
      "Epoch 25/100\n",
      " 1/35 [..............................] - ETA: 0s - loss: 0.3145 - accuracy: 0.8750\n",
      "Epoch 25: saving model to checkpoints\\weights.25.hdf5\n",
      "35/35 [==============================] - 0s 823us/step - loss: 0.2937 - accuracy: 0.8820\n",
      "Epoch 26/100\n",
      " 1/35 [..............................] - ETA: 0s - loss: 0.2524 - accuracy: 0.8438\n",
      "Epoch 26: saving model to checkpoints\\weights.26.hdf5\n",
      "35/35 [==============================] - 0s 853us/step - loss: 0.2891 - accuracy: 0.8857\n",
      "Epoch 27/100\n",
      " 1/35 [..............................] - ETA: 0s - loss: 0.3283 - accuracy: 0.8125\n",
      "Epoch 27: saving model to checkpoints\\weights.27.hdf5\n",
      "35/35 [==============================] - 0s 853us/step - loss: 0.2849 - accuracy: 0.8884\n",
      "Epoch 28/100\n",
      " 1/35 [..............................] - ETA: 0s - loss: 0.4946 - accuracy: 0.7188\n",
      "Epoch 28: saving model to checkpoints\\weights.28.hdf5\n",
      "35/35 [==============================] - 0s 823us/step - loss: 0.2806 - accuracy: 0.8911\n",
      "Epoch 29/100\n",
      " 1/35 [..............................] - ETA: 0s - loss: 0.2238 - accuracy: 0.9375\n",
      "Epoch 29: saving model to checkpoints\\weights.29.hdf5\n",
      "35/35 [==============================] - 0s 853us/step - loss: 0.2775 - accuracy: 0.8956\n",
      "Epoch 30/100\n",
      " 1/35 [..............................] - ETA: 0s - loss: 0.3632 - accuracy: 0.8125\n",
      "Epoch 30: saving model to checkpoints\\weights.30.hdf5\n",
      "35/35 [==============================] - 0s 838us/step - loss: 0.2734 - accuracy: 0.8938\n",
      "Epoch 31/100\n",
      " 1/35 [..............................] - ETA: 0s - loss: 0.1983 - accuracy: 0.9375\n",
      "Epoch 31: saving model to checkpoints\\weights.31.hdf5\n",
      "35/35 [==============================] - 0s 941us/step - loss: 0.2699 - accuracy: 0.8947\n",
      "Epoch 32/100\n",
      " 1/35 [..............................] - ETA: 0s - loss: 0.2426 - accuracy: 0.8750\n",
      "Epoch 32: saving model to checkpoints\\weights.32.hdf5\n",
      "35/35 [==============================] - 0s 853us/step - loss: 0.2666 - accuracy: 0.8966\n",
      "Epoch 33/100\n",
      " 1/35 [..............................] - ETA: 0s - loss: 0.2343 - accuracy: 0.9375\n",
      "Epoch 33: saving model to checkpoints\\weights.33.hdf5\n",
      "35/35 [==============================] - 0s 1ms/step - loss: 0.2642 - accuracy: 0.8966\n",
      "Epoch 34/100\n",
      " 1/35 [..............................] - ETA: 0s - loss: 0.2588 - accuracy: 0.8750\n",
      "Epoch 34: saving model to checkpoints\\weights.34.hdf5\n",
      "35/35 [==============================] - 0s 882us/step - loss: 0.2613 - accuracy: 0.8993\n",
      "Epoch 35/100\n",
      " 1/35 [..............................] - ETA: 0s - loss: 0.2299 - accuracy: 0.9375\n",
      "Epoch 35: saving model to checkpoints\\weights.35.hdf5\n",
      "35/35 [==============================] - 0s 838us/step - loss: 0.2574 - accuracy: 0.9002\n",
      "Epoch 36/100\n",
      " 1/35 [..............................] - ETA: 0s - loss: 0.2379 - accuracy: 0.9062\n",
      "Epoch 36: saving model to checkpoints\\weights.36.hdf5\n",
      "35/35 [==============================] - 0s 863us/step - loss: 0.2553 - accuracy: 0.9029\n",
      "Epoch 37/100\n",
      " 1/35 [..............................] - ETA: 0s - loss: 0.3212 - accuracy: 0.9375\n",
      "Epoch 37: saving model to checkpoints\\weights.37.hdf5\n",
      "35/35 [==============================] - 0s 868us/step - loss: 0.2526 - accuracy: 0.9029\n",
      "Epoch 38/100\n",
      " 1/35 [..............................] - ETA: 0s - loss: 0.1477 - accuracy: 0.9688\n",
      "Epoch 38: saving model to checkpoints\\weights.38.hdf5\n",
      "35/35 [==============================] - 0s 868us/step - loss: 0.2488 - accuracy: 0.9047\n",
      "Epoch 39/100\n",
      " 1/35 [..............................] - ETA: 0s - loss: 0.1407 - accuracy: 0.9688\n",
      "Epoch 39: saving model to checkpoints\\weights.39.hdf5\n",
      "35/35 [==============================] - 0s 882us/step - loss: 0.2474 - accuracy: 0.9047\n",
      "Epoch 40/100\n",
      " 1/35 [..............................] - ETA: 0s - loss: 0.1432 - accuracy: 0.9688\n",
      "Epoch 40: saving model to checkpoints\\weights.40.hdf5\n",
      "35/35 [==============================] - 0s 868us/step - loss: 0.2448 - accuracy: 0.9038\n",
      "Epoch 41/100\n",
      " 1/35 [..............................] - ETA: 0s - loss: 0.2383 - accuracy: 0.9062\n",
      "Epoch 41: saving model to checkpoints\\weights.41.hdf5\n",
      "35/35 [==============================] - 0s 897us/step - loss: 0.2428 - accuracy: 0.9065\n",
      "Epoch 42/100\n",
      " 1/35 [..............................] - ETA: 0s - loss: 0.2277 - accuracy: 0.9062\n",
      "Epoch 42: saving model to checkpoints\\weights.42.hdf5\n",
      "35/35 [==============================] - 0s 927us/step - loss: 0.2400 - accuracy: 0.9056\n",
      "Epoch 43/100\n",
      " 1/35 [..............................] - ETA: 0s - loss: 0.2091 - accuracy: 0.9375\n",
      "Epoch 43: saving model to checkpoints\\weights.43.hdf5\n",
      "35/35 [==============================] - 0s 887us/step - loss: 0.2376 - accuracy: 0.9083\n",
      "Epoch 44/100\n",
      " 1/35 [..............................] - ETA: 0s - loss: 0.3001 - accuracy: 0.8750\n",
      "Epoch 44: saving model to checkpoints\\weights.44.hdf5\n",
      "35/35 [==============================] - 0s 853us/step - loss: 0.2362 - accuracy: 0.9065\n",
      "Epoch 45/100\n",
      " 1/35 [..............................] - ETA: 0s - loss: 0.3291 - accuracy: 0.8750\n",
      "Epoch 45: saving model to checkpoints\\weights.45.hdf5\n",
      "35/35 [==============================] - 0s 853us/step - loss: 0.2338 - accuracy: 0.9074\n",
      "Epoch 46/100\n",
      " 1/35 [..............................] - ETA: 0s - loss: 0.2130 - accuracy: 0.9375\n",
      "Epoch 46: saving model to checkpoints\\weights.46.hdf5\n",
      "35/35 [==============================] - 0s 853us/step - loss: 0.2323 - accuracy: 0.9093\n",
      "Epoch 47/100\n",
      " 1/35 [..............................] - ETA: 0s - loss: 0.1410 - accuracy: 0.9688\n",
      "Epoch 47: saving model to checkpoints\\weights.47.hdf5\n",
      "35/35 [==============================] - 0s 941us/step - loss: 0.2307 - accuracy: 0.9083\n",
      "Epoch 48/100\n",
      " 1/35 [..............................] - ETA: 0s - loss: 0.2688 - accuracy: 0.9062\n",
      "Epoch 48: saving model to checkpoints\\weights.48.hdf5\n",
      "35/35 [==============================] - 0s 882us/step - loss: 0.2291 - accuracy: 0.9065\n",
      "Epoch 49/100\n",
      " 1/35 [..............................] - ETA: 0s - loss: 0.0965 - accuracy: 0.9688\n",
      "Epoch 49: saving model to checkpoints\\weights.49.hdf5\n",
      "35/35 [==============================] - 0s 944us/step - loss: 0.2259 - accuracy: 0.9056\n",
      "Epoch 50/100\n",
      " 1/35 [..............................] - ETA: 0s - loss: 0.2279 - accuracy: 0.9062\n",
      "Epoch 50: saving model to checkpoints\\weights.50.hdf5\n",
      "35/35 [==============================] - 0s 882us/step - loss: 0.2247 - accuracy: 0.9093\n",
      "Epoch 51/100\n",
      " 1/35 [..............................] - ETA: 0s - loss: 0.1074 - accuracy: 0.9688\n",
      "Epoch 51: saving model to checkpoints\\weights.51.hdf5\n",
      "35/35 [==============================] - 0s 853us/step - loss: 0.2233 - accuracy: 0.9093\n",
      "Epoch 52/100\n",
      " 1/35 [..............................] - ETA: 0s - loss: 0.1696 - accuracy: 0.9375\n",
      "Epoch 52: saving model to checkpoints\\weights.52.hdf5\n",
      "35/35 [==============================] - 0s 926us/step - loss: 0.2212 - accuracy: 0.9102\n",
      "Epoch 53/100\n",
      " 1/35 [..............................] - ETA: 0s - loss: 0.1019 - accuracy: 0.9688\n",
      "Epoch 53: saving model to checkpoints\\weights.53.hdf5\n",
      "35/35 [==============================] - 0s 882us/step - loss: 0.2191 - accuracy: 0.9147\n",
      "Epoch 54/100\n",
      " 1/35 [..............................] - ETA: 0s - loss: 0.1689 - accuracy: 0.9688\n",
      "Epoch 54: saving model to checkpoints\\weights.54.hdf5\n",
      "35/35 [==============================] - 0s 882us/step - loss: 0.2175 - accuracy: 0.9111\n",
      "Epoch 55/100\n",
      " 1/35 [..............................] - ETA: 0s - loss: 0.0738 - accuracy: 1.0000\n",
      "Epoch 55: saving model to checkpoints\\weights.55.hdf5\n",
      "35/35 [==============================] - 0s 912us/step - loss: 0.2155 - accuracy: 0.9138\n",
      "Epoch 56/100\n",
      " 1/35 [..............................] - ETA: 0s - loss: 0.1728 - accuracy: 0.9375\n",
      "Epoch 56: saving model to checkpoints\\weights.56.hdf5\n",
      "35/35 [==============================] - 0s 938us/step - loss: 0.2143 - accuracy: 0.9156\n",
      "Epoch 57/100\n",
      " 1/35 [..............................] - ETA: 0s - loss: 0.1532 - accuracy: 0.9375\n",
      "Epoch 57: saving model to checkpoints\\weights.57.hdf5\n",
      "35/35 [==============================] - 0s 838us/step - loss: 0.2130 - accuracy: 0.9156\n",
      "Epoch 58/100\n",
      " 1/35 [..............................] - ETA: 0s - loss: 0.1888 - accuracy: 0.9062\n",
      "Epoch 58: saving model to checkpoints\\weights.58.hdf5\n",
      "35/35 [==============================] - 0s 882us/step - loss: 0.2114 - accuracy: 0.9165\n",
      "Epoch 59/100\n",
      " 1/35 [..............................] - ETA: 0s - loss: 0.2026 - accuracy: 0.8750\n",
      "Epoch 59: saving model to checkpoints\\weights.59.hdf5\n",
      "35/35 [==============================] - 0s 824us/step - loss: 0.2107 - accuracy: 0.9156\n",
      "Epoch 60/100\n",
      " 1/35 [..............................] - ETA: 0s - loss: 0.0957 - accuracy: 1.0000\n",
      "Epoch 60: saving model to checkpoints\\weights.60.hdf5\n",
      "35/35 [==============================] - 0s 853us/step - loss: 0.2082 - accuracy: 0.9156\n",
      "Epoch 61/100\n",
      " 1/35 [..............................] - ETA: 0s - loss: 0.2293 - accuracy: 0.9375\n",
      "Epoch 61: saving model to checkpoints\\weights.61.hdf5\n",
      "35/35 [==============================] - 0s 882us/step - loss: 0.2064 - accuracy: 0.9183\n",
      "Epoch 62/100\n",
      " 1/35 [..............................] - ETA: 0s - loss: 0.1336 - accuracy: 0.9688\n",
      "Epoch 62: saving model to checkpoints\\weights.62.hdf5\n",
      "35/35 [==============================] - 0s 868us/step - loss: 0.2045 - accuracy: 0.9183\n",
      "Epoch 63/100\n",
      " 1/35 [..............................] - ETA: 0s - loss: 0.0896 - accuracy: 1.0000\n",
      "Epoch 63: saving model to checkpoints\\weights.63.hdf5\n",
      "35/35 [==============================] - 0s 926us/step - loss: 0.2035 - accuracy: 0.9183\n",
      "Epoch 64/100\n",
      " 1/35 [..............................] - ETA: 0s - loss: 0.4169 - accuracy: 0.8125\n",
      "Epoch 64: saving model to checkpoints\\weights.64.hdf5\n",
      "35/35 [==============================] - 0s 882us/step - loss: 0.2015 - accuracy: 0.9174\n",
      "Epoch 65/100\n",
      " 1/35 [..............................] - ETA: 0s - loss: 0.1588 - accuracy: 0.9688\n",
      "Epoch 65: saving model to checkpoints\\weights.65.hdf5\n",
      "35/35 [==============================] - 0s 971us/step - loss: 0.2004 - accuracy: 0.9174\n",
      "Epoch 66/100\n",
      " 1/35 [..............................] - ETA: 0s - loss: 0.2542 - accuracy: 0.9375\n",
      "Epoch 66: saving model to checkpoints\\weights.66.hdf5\n",
      "35/35 [==============================] - 0s 912us/step - loss: 0.2006 - accuracy: 0.9138\n",
      "Epoch 67/100\n",
      " 1/35 [..............................] - ETA: 0s - loss: 0.1737 - accuracy: 0.9375\n",
      "Epoch 67: saving model to checkpoints\\weights.67.hdf5\n",
      "35/35 [==============================] - 0s 940us/step - loss: 0.1979 - accuracy: 0.9201\n",
      "Epoch 68/100\n",
      " 1/35 [..............................] - ETA: 0s - loss: 0.1903 - accuracy: 0.8750\n",
      "Epoch 68: saving model to checkpoints\\weights.68.hdf5\n",
      "35/35 [==============================] - 0s 882us/step - loss: 0.1964 - accuracy: 0.9201\n",
      "Epoch 69/100\n",
      " 1/35 [..............................] - ETA: 0s - loss: 0.1003 - accuracy: 0.9688\n",
      "Epoch 69: saving model to checkpoints\\weights.69.hdf5\n",
      "35/35 [==============================] - 0s 926us/step - loss: 0.1954 - accuracy: 0.9201\n",
      "Epoch 70/100\n",
      " 1/35 [..............................] - ETA: 0s - loss: 0.1014 - accuracy: 0.9688\n",
      "Epoch 70: saving model to checkpoints\\weights.70.hdf5\n",
      "35/35 [==============================] - 0s 1ms/step - loss: 0.1939 - accuracy: 0.9211\n",
      "Epoch 71/100\n",
      " 1/35 [..............................] - ETA: 0s - loss: 0.2505 - accuracy: 0.8750\n",
      "Epoch 71: saving model to checkpoints\\weights.71.hdf5\n",
      "35/35 [==============================] - 0s 912us/step - loss: 0.1924 - accuracy: 0.9211\n",
      "Epoch 72/100\n",
      " 1/35 [..............................] - ETA: 0s - loss: 0.2040 - accuracy: 0.9375\n",
      "Epoch 72: saving model to checkpoints\\weights.72.hdf5\n",
      "35/35 [==============================] - 0s 985us/step - loss: 0.1916 - accuracy: 0.9229\n",
      "Epoch 73/100\n",
      " 1/35 [..............................] - ETA: 0s - loss: 0.0938 - accuracy: 0.9688\n",
      "Epoch 73: saving model to checkpoints\\weights.73.hdf5\n",
      "35/35 [==============================] - 0s 926us/step - loss: 0.1905 - accuracy: 0.9201\n",
      "Epoch 74/100\n",
      " 1/35 [..............................] - ETA: 0s - loss: 0.2491 - accuracy: 0.9062\n",
      "Epoch 74: saving model to checkpoints\\weights.74.hdf5\n",
      "35/35 [==============================] - 0s 868us/step - loss: 0.1889 - accuracy: 0.9247\n",
      "Epoch 75/100\n",
      " 1/35 [..............................] - ETA: 0s - loss: 0.2197 - accuracy: 0.8750\n",
      "Epoch 75: saving model to checkpoints\\weights.75.hdf5\n",
      "35/35 [==============================] - 0s 868us/step - loss: 0.1881 - accuracy: 0.9220\n",
      "Epoch 76/100\n",
      " 1/35 [..............................] - ETA: 0s - loss: 0.0842 - accuracy: 0.9688\n",
      "Epoch 76: saving model to checkpoints\\weights.76.hdf5\n",
      "35/35 [==============================] - 0s 941us/step - loss: 0.1868 - accuracy: 0.9220\n",
      "Epoch 77/100\n",
      " 1/35 [..............................] - ETA: 0s - loss: 0.2296 - accuracy: 0.9375\n",
      "Epoch 77: saving model to checkpoints\\weights.77.hdf5\n",
      "35/35 [==============================] - 0s 912us/step - loss: 0.1861 - accuracy: 0.9238\n",
      "Epoch 78/100\n",
      " 1/35 [..............................] - ETA: 0s - loss: 0.3355 - accuracy: 0.8750\n",
      "Epoch 78: saving model to checkpoints\\weights.78.hdf5\n",
      "35/35 [==============================] - 0s 882us/step - loss: 0.1840 - accuracy: 0.9229\n",
      "Epoch 79/100\n",
      " 1/35 [..............................] - ETA: 0s - loss: 0.0994 - accuracy: 0.9688\n",
      "Epoch 79: saving model to checkpoints\\weights.79.hdf5\n",
      "35/35 [==============================] - 0s 971us/step - loss: 0.1836 - accuracy: 0.9211\n",
      "Epoch 80/100\n",
      " 1/35 [..............................] - ETA: 0s - loss: 0.1922 - accuracy: 0.9062\n",
      "Epoch 80: saving model to checkpoints\\weights.80.hdf5\n",
      "35/35 [==============================] - 0s 926us/step - loss: 0.1838 - accuracy: 0.9220\n",
      "Epoch 81/100\n",
      " 1/35 [..............................] - ETA: 0s - loss: 0.1475 - accuracy: 0.9375\n",
      "Epoch 81: saving model to checkpoints\\weights.81.hdf5\n",
      "35/35 [==============================] - 0s 912us/step - loss: 0.1808 - accuracy: 0.9256\n",
      "Epoch 82/100\n",
      " 1/35 [..............................] - ETA: 0s - loss: 0.2649 - accuracy: 0.8438\n",
      "Epoch 82: saving model to checkpoints\\weights.82.hdf5\n",
      "35/35 [==============================] - 0s 941us/step - loss: 0.1802 - accuracy: 0.9220\n",
      "Epoch 83/100\n",
      " 1/35 [..............................] - ETA: 0s - loss: 0.1020 - accuracy: 0.9688\n",
      "Epoch 83: saving model to checkpoints\\weights.83.hdf5\n",
      "35/35 [==============================] - 0s 927us/step - loss: 0.1788 - accuracy: 0.9247\n",
      "Epoch 84/100\n",
      " 1/35 [..............................] - ETA: 0s - loss: 0.4007 - accuracy: 0.7500\n",
      "Epoch 84: saving model to checkpoints\\weights.84.hdf5\n",
      "35/35 [==============================] - 0s 912us/step - loss: 0.1775 - accuracy: 0.9229\n",
      "Epoch 85/100\n",
      " 1/35 [..............................] - ETA: 0s - loss: 0.2157 - accuracy: 0.8750\n",
      "Epoch 85: saving model to checkpoints\\weights.85.hdf5\n",
      "35/35 [==============================] - 0s 926us/step - loss: 0.1764 - accuracy: 0.9247\n",
      "Epoch 86/100\n",
      " 1/35 [..............................] - ETA: 0s - loss: 0.1398 - accuracy: 0.9062\n",
      "Epoch 86: saving model to checkpoints\\weights.86.hdf5\n",
      "35/35 [==============================] - 0s 912us/step - loss: 0.1754 - accuracy: 0.9238\n",
      "Epoch 87/100\n",
      " 1/35 [..............................] - ETA: 0s - loss: 0.0505 - accuracy: 1.0000\n",
      "Epoch 87: saving model to checkpoints\\weights.87.hdf5\n",
      "35/35 [==============================] - 0s 897us/step - loss: 0.1742 - accuracy: 0.9256\n",
      "Epoch 88/100\n",
      " 1/35 [..............................] - ETA: 0s - loss: 0.2230 - accuracy: 0.9375\n",
      "Epoch 88: saving model to checkpoints\\weights.88.hdf5\n",
      "35/35 [==============================] - 0s 1000us/step - loss: 0.1722 - accuracy: 0.9229\n",
      "Epoch 89/100\n",
      " 1/35 [..............................] - ETA: 0s - loss: 0.1143 - accuracy: 0.9375\n",
      "Epoch 89: saving model to checkpoints\\weights.89.hdf5\n",
      "35/35 [==============================] - 0s 971us/step - loss: 0.1723 - accuracy: 0.9256\n",
      "Epoch 90/100\n",
      " 1/35 [..............................] - ETA: 0s - loss: 0.1950 - accuracy: 0.8750\n",
      "Epoch 90: saving model to checkpoints\\weights.90.hdf5\n",
      "35/35 [==============================] - 0s 882us/step - loss: 0.1703 - accuracy: 0.9265\n",
      "Epoch 91/100\n",
      " 1/35 [..............................] - ETA: 0s - loss: 0.2454 - accuracy: 0.9375\n",
      "Epoch 91: saving model to checkpoints\\weights.91.hdf5\n",
      "35/35 [==============================] - 0s 926us/step - loss: 0.1699 - accuracy: 0.9238\n",
      "Epoch 92/100\n",
      " 1/35 [..............................] - ETA: 0s - loss: 0.1477 - accuracy: 0.9375\n",
      "Epoch 92: saving model to checkpoints\\weights.92.hdf5\n",
      "35/35 [==============================] - 0s 956us/step - loss: 0.1693 - accuracy: 0.9283\n",
      "Epoch 93/100\n",
      " 1/35 [..............................] - ETA: 0s - loss: 0.1473 - accuracy: 0.9375\n",
      "Epoch 93: saving model to checkpoints\\weights.93.hdf5\n",
      "35/35 [==============================] - 0s 926us/step - loss: 0.1677 - accuracy: 0.9256\n",
      "Epoch 94/100\n",
      " 1/35 [..............................] - ETA: 0s - loss: 0.1163 - accuracy: 0.9688\n",
      "Epoch 94: saving model to checkpoints\\weights.94.hdf5\n",
      "35/35 [==============================] - 0s 882us/step - loss: 0.1669 - accuracy: 0.9256\n",
      "Epoch 95/100\n",
      " 1/35 [..............................] - ETA: 0s - loss: 0.1071 - accuracy: 0.9688\n",
      "Epoch 95: saving model to checkpoints\\weights.95.hdf5\n",
      "35/35 [==============================] - 0s 882us/step - loss: 0.1651 - accuracy: 0.9283\n",
      "Epoch 96/100\n",
      " 1/35 [..............................] - ETA: 0s - loss: 0.0655 - accuracy: 0.9688\n",
      "Epoch 96: saving model to checkpoints\\weights.96.hdf5\n",
      "35/35 [==============================] - 0s 897us/step - loss: 0.1642 - accuracy: 0.9274\n",
      "Epoch 97/100\n",
      " 1/35 [..............................] - ETA: 0s - loss: 0.1478 - accuracy: 0.9688\n",
      "Epoch 97: saving model to checkpoints\\weights.97.hdf5\n",
      "35/35 [==============================] - 0s 912us/step - loss: 0.1639 - accuracy: 0.9274\n",
      "Epoch 98/100\n",
      " 1/35 [..............................] - ETA: 0s - loss: 0.1482 - accuracy: 0.9375\n",
      "Epoch 98: saving model to checkpoints\\weights.98.hdf5\n",
      "35/35 [==============================] - 0s 971us/step - loss: 0.1621 - accuracy: 0.9301\n",
      "Epoch 99/100\n",
      " 1/35 [..............................] - ETA: 0s - loss: 0.1142 - accuracy: 0.9375\n",
      "Epoch 99: saving model to checkpoints\\weights.99.hdf5\n",
      "35/35 [==============================] - 0s 1000us/step - loss: 0.1600 - accuracy: 0.9283\n",
      "Epoch 100/100\n",
      " 1/35 [..............................] - ETA: 0s - loss: 0.1878 - accuracy: 0.9062\n",
      "Epoch 100: saving model to checkpoints\\weights.100.hdf5\n",
      "35/35 [==============================] - 0s 912us/step - loss: 0.1587 - accuracy: 0.9292\n",
      "12/12 - 0s - loss: 0.4008 - accuracy: 0.8723 - 87ms/epoch - 7ms/step\n",
      "Loss: 0.40077322721481323, Accuracy: 0.8722826242446899\n"
     ]
    }
   ],
   "source": [
    "# Compile the model\n",
    "nn.compile(loss=\"binary_crossentropy\", optimizer=\"adam\", metrics=[\"accuracy\"])\n",
    "\n",
    "# Create a callback that saves the model's weights every epoch\n",
    "cp_callback = ModelCheckpoint(\n",
    "    filepath=checkpoint_path,\n",
    "    verbose=1,\n",
    "    save_weights_only=True,\n",
    "    save_freq='epoch')\n",
    "\n",
    "# Train the model\n",
    "fit_model = nn.fit(X_train_scaled,y_train,epochs=100,callbacks=[cp_callback])\n",
    "\n",
    "# Evaluate the model using the test data\n",
    "model_loss, model_accuracy = nn.evaluate(X_test_scaled,y_test,verbose=2)\n",
    "print(f\"Loss: {model_loss}, Accuracy: {model_accuracy}\")"
   ],
   "metadata": {
    "collapsed": false,
    "pycharm": {
     "name": "#%%\n"
    }
   }
  },
  {
   "cell_type": "code",
   "execution_count": 11,
   "outputs": [
    {
     "name": "stdout",
     "output_type": "stream",
     "text": [
      "12/12 - 0s - loss: 0.4008 - accuracy: 0.8723 - 111ms/epoch - 9ms/step\n",
      "Loss: 0.40077322721481323, Accuracy: 0.8722826242446899\n"
     ]
    }
   ],
   "source": [
    "# Define the model - deep neural net\n",
    "number_input_features = len(X_train_scaled[0])\n",
    "hidden_nodes_layer1 = 8\n",
    "hidden_nodes_layer2 = 5\n",
    "\n",
    "nn_new = tf.keras.models.Sequential()\n",
    "\n",
    "# First hidden layer\n",
    "nn_new.add(\n",
    "    tf.keras.layers.Dense(units=hidden_nodes_layer1, input_dim=number_input_features, activation=\"relu\")\n",
    ")\n",
    "\n",
    "# Second hidden layer\n",
    "nn_new.add(tf.keras.layers.Dense(units=hidden_nodes_layer2, activation=\"relu\"))\n",
    "\n",
    "# Output layer\n",
    "nn_new.add(tf.keras.layers.Dense(units=1, activation=\"sigmoid\"))\n",
    "\n",
    "# Compile the model\n",
    "nn_new.compile(loss=\"binary_crossentropy\", optimizer=\"adam\", metrics=[\"accuracy\"])\n",
    "\n",
    "# Restore the model weights\n",
    "nn_new.load_weights(\"checkpoints/weights.100.hdf5\")\n",
    "\n",
    "# Evaluate the model using the test data\n",
    "model_loss, model_accuracy = nn_new.evaluate(X_test_scaled,y_test,verbose=2)\n",
    "print(f\"Loss: {model_loss}, Accuracy: {model_accuracy}\")"
   ],
   "metadata": {
    "collapsed": false,
    "pycharm": {
     "name": "#%%\n"
    }
   }
  },
  {
   "cell_type": "code",
   "execution_count": 12,
   "outputs": [],
   "source": [
    "# Export our model to HDF5 file\n",
    "nn_new.save(\"trained_attrition.h5\")"
   ],
   "metadata": {
    "collapsed": false,
    "pycharm": {
     "name": "#%%\n"
    }
   }
  },
  {
   "cell_type": "code",
   "execution_count": 13,
   "outputs": [],
   "source": [
    "# Import the model to a new object\n",
    "nn_imported = tf.keras.models.load_model('trained_attrition.h5')"
   ],
   "metadata": {
    "collapsed": false,
    "pycharm": {
     "name": "#%%\n"
    }
   }
  },
  {
   "cell_type": "code",
   "execution_count": 14,
   "outputs": [
    {
     "name": "stdout",
     "output_type": "stream",
     "text": [
      "12/12 - 0s - loss: 0.4008 - accuracy: 0.8723 - 70ms/epoch - 6ms/step\n",
      "Loss: 0.40077322721481323, Accuracy: 0.8722826242446899\n"
     ]
    }
   ],
   "source": [
    "# Evaluate the completed model using the test data\n",
    "model_loss, model_accuracy = nn_imported.evaluate(X_test_scaled,y_test,verbose=2)\n",
    "print(f\"Loss: {model_loss}, Accuracy: {model_accuracy}\")"
   ],
   "metadata": {
    "collapsed": false,
    "pycharm": {
     "name": "#%%\n"
    }
   }
  }
 ],
 "metadata": {
  "kernelspec": {
   "name": "mlenv",
   "language": "python",
   "display_name": "mlenv"
  },
  "language_info": {
   "codemirror_mode": {
    "name": "ipython",
    "version": 2
   },
   "file_extension": ".py",
   "mimetype": "text/x-python",
   "name": "python",
   "nbconvert_exporter": "python",
   "pygments_lexer": "ipython2",
   "version": "2.7.6"
  }
 },
 "nbformat": 4,
 "nbformat_minor": 0
}